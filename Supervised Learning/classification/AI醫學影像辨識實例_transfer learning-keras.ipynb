{
 "cells": [
  {
   "cell_type": "markdown",
   "metadata": {
    "id": "aVc-apCpEPIW"
   },
   "source": [
    "# Retinopathy Classification\n",
    "\n",
    "## Submit result to kaggle as Part3 HW: https://www.kaggle.com/c/retinopathy-classification-sai\n",
    "\n",
    "## HINT\n",
    "\n",
    "1.   Select model from keras application\n",
    "2.   Transfer learning\n",
    "3.   Data Augmentation\n",
    "4.   More imaage preprocess (ex: histogram equlization, crop image, ... etc)\n",
    "\n"
   ]
  },
  {
   "cell_type": "code",
   "execution_count": null,
   "metadata": {
    "id": "rfo9NM6DG3FX"
   },
   "outputs": [],
   "source": [
    "import tensorflow as tf\n",
    "from tensorflow.keras import datasets, models, layers, utils, activations, losses, optimizers, metrics\n",
    "import numpy as np\n",
    "import matplotlib.pyplot as plt\n",
    "import cv2\n",
    "import os\n",
    "from glob import glob\n",
    "from tqdm import tqdm\n",
    "from sklearn.model_selection import train_test_split\n",
    "import pandas as pd"
   ]
  },
  {
   "cell_type": "code",
   "execution_count": null,
   "metadata": {
    "id": "mKmZtVNKG5nZ"
   },
   "outputs": [],
   "source": [
    "# Define Parameters\n",
    "num_classes = 3\n",
    "IMG_SIZE = 224"
   ]
  },
  {
   "cell_type": "code",
   "execution_count": 1,
   "metadata": {
    "colab": {
     "base_uri": "https://localhost:8080/"
    },
    "executionInfo": {
     "elapsed": 1663,
     "status": "ok",
     "timestamp": 1628434700274,
     "user": {
      "displayName": "CY Li",
      "photoUrl": "https://lh3.googleusercontent.com/a-/AOh14GhUjBR-W3fjmzlI1F96TtArIXePd_MCbM8FFhB5fbI=s64",
      "userId": "11560903483017836470"
     },
     "user_tz": -480
    },
    "id": "yv09J78pHBwZ",
    "outputId": "9a4b1435-0686-44f6-8381-c3a6b815ce61"
   },
   "outputs": [
    {
     "name": "stdout",
     "output_type": "stream",
     "text": [
      "Permission denied: https://drive.google.com/uc?id=1ZrB69wSgzXLu8UZdPJb8hnB6K4eltcpu\n",
      "Maybe you need to change permission over 'Anyone with the link'?\n"
     ]
    }
   ],
   "source": [
    "# download from google drive or upload file by yourself\n",
    "!gdown --id '1ZrB69wSgzXLu8UZdPJb8hnB6K4eltcpu' --output retina-dataset.zip"
   ]
  },
  {
   "cell_type": "code",
   "execution_count": null,
   "metadata": {
    "id": "fFK-NYVeHMom"
   },
   "outputs": [],
   "source": [
    "# unzip dataset file\n",
    "!unzip -q retina-dataset.zip"
   ]
  },
  {
   "cell_type": "markdown",
   "metadata": {
    "id": "BHRgSYG8H6hQ"
   },
   "source": [
    "#### Data Visualization"
   ]
  },
  {
   "cell_type": "code",
   "execution_count": null,
   "metadata": {
    "id": "so0Up92MH9US"
   },
   "outputs": [],
   "source": [
    "paths = glob('retina-train/*.jpeg')\n",
    "paths_test = sorted(glob('retina-test/*.jpeg'))\n",
    "len(paths), len(paths_test)"
   ]
  },
  {
   "cell_type": "code",
   "execution_count": null,
   "metadata": {
    "id": "0EE1Y6puIDSG"
   },
   "outputs": [],
   "source": [
    "idx = np.random.randint(0, len(paths), size=1)[0]\n",
    "path = paths[idx]\n",
    "# path = 'retina-train/5258_right_2.jpeg'\n",
    "img = cv2.imread(path)# [:,:,::-1]\n",
    "plt.imshow(img[:,:,::-1])\n",
    "print(path)"
   ]
  },
  {
   "cell_type": "code",
   "execution_count": null,
   "metadata": {
    "id": "p9d7TljgIki7"
   },
   "outputs": [],
   "source": [
    "all_filenames = [os.path.split(p)[1] for p in paths] # path -> ***.jpeg\n",
    "print(all_filenames[:3])\n",
    "all_cls = [int(name.split('.')[0].split('_')[-1]) for name in all_filenames] # ***.jpeg -> 0~4\n",
    "print(all_cls[:3])"
   ]
  },
  {
   "cell_type": "code",
   "execution_count": null,
   "metadata": {
    "id": "Hpyh1JPjKJnr"
   },
   "outputs": [],
   "source": [
    "# Class distribution\n",
    "cls, count = np.unique(all_cls, return_counts=True)\n",
    "plt.bar(cls, count)"
   ]
  },
  {
   "cell_type": "markdown",
   "metadata": {
    "id": "uZ17PLHdi4EX"
   },
   "source": [
    "#### Build Transfer Learning Model"
   ]
  },
  {
   "cell_type": "code",
   "execution_count": null,
   "metadata": {
    "id": "_5gnwbL-i80u"
   },
   "outputs": [],
   "source": []
  },
  {
   "cell_type": "code",
   "execution_count": null,
   "metadata": {
    "id": "XHDdRY0AjARc"
   },
   "outputs": [],
   "source": [
    "# Build model"
   ]
  },
  {
   "cell_type": "code",
   "execution_count": null,
   "metadata": {
    "id": "2dUXlN25jSKo"
   },
   "outputs": [],
   "source": [
    "model.summary()"
   ]
  },
  {
   "cell_type": "markdown",
   "metadata": {
    "id": "Fs4ABS3_H1g-"
   },
   "source": [
    "#### Prepare Data"
   ]
  },
  {
   "cell_type": "code",
   "execution_count": null,
   "metadata": {
    "id": "u2sQ5vJwHjGz"
   },
   "outputs": [],
   "source": [
    "# split dataset\n",
    "path_train, path_val = train_test_split(paths, test_size=0.2)\n",
    "\n",
    "len(path_train), len(path_val)"
   ]
  },
  {
   "cell_type": "code",
   "execution_count": null,
   "metadata": {
    "id": "hub6GZPCKoTI"
   },
   "outputs": [],
   "source": [
    "def create_dataset(paths, img_size=IMG_SIZE, num_classes=num_classes, test=False):\n",
    "    num_data = len(paths)\n",
    "    x_data = np.empty((num_data, img_size, img_size, 3))\n",
    "    y_data = np.empty((num_data))\n",
    "\n",
    "    for i, path in enumerate(tqdm(paths)):\n",
    "        # read image and preprocess\n",
    "        img = cv2.imread(path)[:,:,::-1]\n",
    "        img = cv2.resize(img, (img_size, img_size))\n",
    "        # !!!!!!!!! Use model preprocessing function !!!!!!!!!!\n",
    "        img = # \n",
    "        x_data[i] = img\n",
    "\n",
    "        if not test:\n",
    "            # read class label\n",
    "            filename = os.path.split(path)[1]\n",
    "            cls = int(filename.split('.')[0].split('_')[-1]) # '38200_left_0.jpeg' -> 0\n",
    "            y_data[i] = cls\n",
    "    if not test:\n",
    "        y_data = utils.to_categorical(y_data, num_classes=num_classes)\n",
    "        return x_data, y_data\n",
    "    else:\n",
    "        return x_data"
   ]
  },
  {
   "cell_type": "code",
   "execution_count": null,
   "metadata": {
    "id": "GjaY_MZaLJ3N"
   },
   "outputs": [],
   "source": [
    "x_train, y_train = create_dataset(path_train)\n",
    "x_val, y_val = create_dataset(path_val)\n",
    "x_test = create_dataset(paths_test, test=True)"
   ]
  },
  {
   "cell_type": "code",
   "execution_count": null,
   "metadata": {
    "id": "orTBMyTzLMvM"
   },
   "outputs": [],
   "source": [
    "x_train.shape, y_train.shape, x_val.shape, y_val.shape"
   ]
  },
  {
   "cell_type": "markdown",
   "metadata": {
    "id": "_tHtE7UYizpF"
   },
   "source": [
    "#### Training"
   ]
  },
  {
   "cell_type": "code",
   "execution_count": null,
   "metadata": {
    "id": "eHuXkApgNOVV"
   },
   "outputs": [],
   "source": [
    "model.compile(optimizer='adam', \n",
    "              loss=losses.categorical_crossentropy, \n",
    "              metrics=[metrics.categorical_accuracy])"
   ]
  },
  {
   "cell_type": "code",
   "execution_count": null,
   "metadata": {
    "id": "9a01hTCgNfzX"
   },
   "outputs": [],
   "source": [
    "# Add data augmentation\n",
    "\n",
    "\n",
    "logs = model.fit(x_train, y_train,\n",
    "                batch_size=32,\n",
    "                epochs=50,\n",
    "                validation_data=(x_val, y_val))"
   ]
  },
  {
   "cell_type": "markdown",
   "metadata": {
    "id": "GciqGz0G8SIo"
   },
   "source": [
    "#### Make Submission file"
   ]
  },
  {
   "cell_type": "code",
   "execution_count": null,
   "metadata": {
    "id": "yhNJ_1RuwRjT"
   },
   "outputs": [],
   "source": [
    "predictions = np.argmax(model.predict(x_test), axis=-1)\n",
    "\n",
    "df = pd.DataFrame()\n",
    "df['Id'] = [p.split(os.sep)[-1] for p in paths_test]\n",
    "df['Category'] = predictions\n",
    "df.to_csv('submission.csv', index=None)\n",
    "df"
   ]
  },
  {
   "cell_type": "code",
   "execution_count": null,
   "metadata": {
    "id": "V1zohpNw1KMj"
   },
   "outputs": [],
   "source": []
  }
 ],
 "metadata": {
  "accelerator": "GPU",
  "colab": {
   "authorship_tag": "ABX9TyPFx7jLPVEbBtiAoCJahx3u",
   "collapsed_sections": [],
   "name": "HW-transfer learning-keras.ipynb",
   "provenance": []
  },
  "kernelspec": {
   "display_name": "Python 3",
   "language": "python",
   "name": "python3"
  },
  "language_info": {
   "codemirror_mode": {
    "name": "ipython",
    "version": 3
   },
   "file_extension": ".py",
   "mimetype": "text/x-python",
   "name": "python",
   "nbconvert_exporter": "python",
   "pygments_lexer": "ipython3",
   "version": "3.6.12"
  }
 },
 "nbformat": 4,
 "nbformat_minor": 4
}
