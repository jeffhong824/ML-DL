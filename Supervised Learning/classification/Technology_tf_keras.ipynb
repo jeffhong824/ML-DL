{
 "cells": [
  {
   "cell_type": "code",
   "execution_count": 1,
   "metadata": {
    "executionInfo": {
     "elapsed": 2773,
     "status": "ok",
     "timestamp": 1614931905657,
     "user": {
      "displayName": "CY Li",
      "photoUrl": "https://lh3.googleusercontent.com/a-/AOh14GhUjBR-W3fjmzlI1F96TtArIXePd_MCbM8FFhB5fbI=s64",
      "userId": "11560903483017836470"
     },
     "user_tz": -480
    },
    "id": "7JqIcnWvwMpc"
   },
   "outputs": [],
   "source": [
    "import tensorflow as tf\n",
    "from tensorflow.keras import datasets, models, layers, utils, activations, losses, optimizers, metrics\n",
    "import numpy as np\n",
    "import matplotlib.pyplot as plt"
   ]
  },
  {
   "cell_type": "code",
   "execution_count": 2,
   "metadata": {
    "colab": {
     "base_uri": "https://localhost:8080/",
     "height": 35
    },
    "executionInfo": {
     "elapsed": 1274,
     "status": "ok",
     "timestamp": 1614931907737,
     "user": {
      "displayName": "CY Li",
      "photoUrl": "https://lh3.googleusercontent.com/a-/AOh14GhUjBR-W3fjmzlI1F96TtArIXePd_MCbM8FFhB5fbI=s64",
      "userId": "11560903483017836470"
     },
     "user_tz": -480
    },
    "id": "4LsiyFhmR_2N",
    "outputId": "23c1709a-8180-433b-c791-51263841901d"
   },
   "outputs": [
    {
     "data": {
      "text/plain": [
       "'1.15.0'"
      ]
     },
     "execution_count": 2,
     "metadata": {},
     "output_type": "execute_result"
    }
   ],
   "source": [
    "tf.__version__"
   ]
  },
  {
   "cell_type": "code",
   "execution_count": 3,
   "metadata": {
    "executionInfo": {
     "elapsed": 1032,
     "status": "ok",
     "timestamp": 1614931909832,
     "user": {
      "displayName": "CY Li",
      "photoUrl": "https://lh3.googleusercontent.com/a-/AOh14GhUjBR-W3fjmzlI1F96TtArIXePd_MCbM8FFhB5fbI=s64",
      "userId": "11560903483017836470"
     },
     "user_tz": -480
    },
    "id": "gDg9Aq-aSCNF"
   },
   "outputs": [],
   "source": [
    "# Define Parameters\n",
    "num_classes = 10\n",
    "img_size = 28"
   ]
  },
  {
   "cell_type": "markdown",
   "metadata": {
    "id": "WXajqeGESoSn"
   },
   "source": [
    "#### Prepare Data"
   ]
  },
  {
   "cell_type": "code",
   "execution_count": 4,
   "metadata": {
    "colab": {
     "base_uri": "https://localhost:8080/"
    },
    "executionInfo": {
     "elapsed": 939,
     "status": "ok",
     "timestamp": 1614931915308,
     "user": {
      "displayName": "CY Li",
      "photoUrl": "https://lh3.googleusercontent.com/a-/AOh14GhUjBR-W3fjmzlI1F96TtArIXePd_MCbM8FFhB5fbI=s64",
      "userId": "11560903483017836470"
     },
     "user_tz": -480
    },
    "id": "s0PDCZGkwMpi",
    "outputId": "d1d11fc0-8461-4fe6-b72a-9f8f02960706"
   },
   "outputs": [
    {
     "data": {
      "text/plain": [
       "((60000, 28, 28), (60000,), (10000, 28, 28), (10000,))"
      ]
     },
     "execution_count": 4,
     "metadata": {},
     "output_type": "execute_result"
    }
   ],
   "source": [
    "# Load Data from Dataset function\n",
    "(x_train, y_train), (x_test, y_test) = datasets.mnist.load_data()\n",
    "# Data shape\n",
    "x_train.shape, y_train.shape, x_test.shape, y_test.shape"
   ]
  },
  {
   "cell_type": "code",
   "execution_count": 5,
   "metadata": {
    "colab": {
     "base_uri": "https://localhost:8080/",
     "height": 282
    },
    "executionInfo": {
     "elapsed": 734,
     "status": "ok",
     "timestamp": 1614931919180,
     "user": {
      "displayName": "CY Li",
      "photoUrl": "https://lh3.googleusercontent.com/a-/AOh14GhUjBR-W3fjmzlI1F96TtArIXePd_MCbM8FFhB5fbI=s64",
      "userId": "11560903483017836470"
     },
     "user_tz": -480
    },
    "id": "PZ0urZRYWMPh",
    "outputId": "a379eaa2-2354-4614-d00c-6e061b51e379"
   },
   "outputs": [
    {
     "data": {
      "text/plain": [
       "(<matplotlib.image.AxesImage at 0x2a1c28e4780>, 7)"
      ]
     },
     "execution_count": 5,
     "metadata": {},
     "output_type": "execute_result"
    },
    {
     "data": {
      "image/png": "[encoded data removed]",
      "text/plain": [
       "<Figure size 432x288 with 1 Axes>"
      ]
     },
     "metadata": {
      "needs_background": "light"
     },
     "output_type": "display_data"
    }
   ],
   "source": [
    "# Show image method 1\n",
    "plt.imshow(x_test[0]), y_test[0]"
   ]
  },
  {
   "cell_type": "code",
   "execution_count": 6,
   "metadata": {
    "colab": {
     "base_uri": "https://localhost:8080/",
     "height": 282
    },
    "executionInfo": {
     "elapsed": 617,
     "status": "ok",
     "timestamp": 1614931925379,
     "user": {
      "displayName": "CY Li",
      "photoUrl": "https://lh3.googleusercontent.com/a-/AOh14GhUjBR-W3fjmzlI1F96TtArIXePd_MCbM8FFhB5fbI=s64",
      "userId": "11560903483017836470"
     },
     "user_tz": -480
    },
    "id": "YlR0R9onWXTs",
    "outputId": "2b72dbd3-a977-4272-9af4-1cd10e1df359"
   },
   "outputs": [
    {
     "data": {
      "text/plain": [
       "<matplotlib.image.AxesImage at 0x2a1c29cf0f0>"
      ]
     },
     "execution_count": 6,
     "metadata": {},
     "output_type": "execute_result"
    },
    {
     "data": {
      "image/png": "[encoded data removed]",
      "text/plain": [
       "<Figure size 432x288 with 1 Axes>"
      ]
     },
     "metadata": {
      "needs_background": "light"
     },
     "output_type": "display_data"
    }
   ],
   "source": [
    "# Show image method 2 with grayscale color map\n",
    "plt.imshow(x_test[0], cmap=plt.cm.gray)"
   ]
  },
  {
   "cell_type": "code",
   "execution_count": 7,
   "metadata": {
    "colab": {
     "base_uri": "https://localhost:8080/"
    },
    "executionInfo": {
     "elapsed": 646,
     "status": "ok",
     "timestamp": 1614931938327,
     "user": {
      "displayName": "CY Li",
      "photoUrl": "https://lh3.googleusercontent.com/a-/AOh14GhUjBR-W3fjmzlI1F96TtArIXePd_MCbM8FFhB5fbI=s64",
      "userId": "11560903483017836470"
     },
     "user_tz": -480
    },
    "id": "r5LcWzCeU7oS",
    "outputId": "9ca3aff1-72e2-44e9-823d-2c0666b4a7eb"
   },
   "outputs": [
    {
     "data": {
      "text/plain": [
       "((60000, 784), (10000, 784), (60000, 10), (10000, 10))"
      ]
     },
     "execution_count": 7,
     "metadata": {},
     "output_type": "execute_result"
    }
   ],
   "source": [
    "# Flatten img to a vector\n",
    "x_train = x_train.reshape(x_train.shape[0], -1)\n",
    "x_test = x_test.reshape(x_test.shape[0], -1)\n",
    "\n",
    "# normalization to 0 ~ 1\n",
    "x_train = x_train / 255.\n",
    "x_test = x_test / 255.\n",
    "\n",
    "# one hot encoding\n",
    "y_train = utils.to_categorical(y_train, num_classes)\n",
    "y_test = utils.to_categorical(y_test, num_classes)\n",
    "\n",
    "x_train.shape, x_test.shape, y_train.shape, y_test.shape"
   ]
  },
  {
   "cell_type": "code",
   "execution_count": 8,
   "metadata": {
    "colab": {
     "base_uri": "https://localhost:8080/"
    },
    "executionInfo": {
     "elapsed": 606,
     "status": "ok",
     "timestamp": 1614931940520,
     "user": {
      "displayName": "CY Li",
      "photoUrl": "https://lh3.googleusercontent.com/a-/AOh14GhUjBR-W3fjmzlI1F96TtArIXePd_MCbM8FFhB5fbI=s64",
      "userId": "11560903483017836470"
     },
     "user_tz": -480
    },
    "id": "NCeSgD2ec62v",
    "outputId": "881ccaf6-ccab-422e-d662-1b59072fea1a"
   },
   "outputs": [
    {
     "name": "stdout",
     "output_type": "stream",
     "text": [
      "[0.         0.         0.         0.         0.         0.\n",
      " 0.         0.         0.         0.         0.         0.\n",
      " 0.         0.         0.         0.         0.         0.\n",
      " 0.         0.         0.         0.         0.         0.\n",
      " 0.         0.         0.         0.         0.         0.\n",
      " 0.         0.         0.         0.         0.         0.\n",
      " 0.         0.         0.         0.         0.         0.\n",
      " 0.         0.         0.         0.         0.         0.\n",
      " 0.         0.         0.         0.         0.         0.\n",
      " 0.         0.         0.         0.         0.         0.\n",
      " 0.         0.         0.         0.         0.         0.\n",
      " 0.         0.         0.         0.         0.         0.\n",
      " 0.         0.         0.         0.         0.         0.\n",
      " 0.         0.         0.         0.         0.         0.\n",
      " 0.         0.         0.         0.         0.         0.\n",
      " 0.         0.         0.         0.         0.         0.\n",
      " 0.         0.         0.         0.         0.         0.\n",
      " 0.         0.         0.         0.         0.         0.\n",
      " 0.         0.         0.         0.         0.         0.\n",
      " 0.         0.         0.         0.         0.         0.\n",
      " 0.         0.         0.         0.         0.         0.\n",
      " 0.         0.         0.         0.         0.         0.\n",
      " 0.         0.         0.         0.         0.         0.\n",
      " 0.         0.         0.         0.         0.         0.\n",
      " 0.         0.         0.         0.         0.         0.\n",
      " 0.         0.         0.01176471 0.07058824 0.07058824 0.07058824\n",
      " 0.49411765 0.53333333 0.68627451 0.10196078 0.65098039 1.\n",
      " 0.96862745 0.49803922 0.         0.         0.         0.\n",
      " 0.         0.         0.         0.         0.         0.\n",
      " 0.         0.         0.11764706 0.14117647 0.36862745 0.60392157\n",
      " 0.66666667 0.99215686 0.99215686 0.99215686 0.99215686 0.99215686\n",
      " 0.88235294 0.6745098  0.99215686 0.94901961 0.76470588 0.25098039\n",
      " 0.         0.         0.         0.         0.         0.\n",
      " 0.         0.         0.         0.         0.         0.19215686\n",
      " 0.93333333 0.99215686 0.99215686 0.99215686 0.99215686 0.99215686\n",
      " 0.99215686 0.99215686 0.99215686 0.98431373 0.36470588 0.32156863\n",
      " 0.32156863 0.21960784 0.15294118 0.         0.         0.\n",
      " 0.         0.         0.         0.         0.         0.\n",
      " 0.         0.         0.         0.07058824 0.85882353 0.99215686\n",
      " 0.99215686 0.99215686 0.99215686 0.99215686 0.77647059 0.71372549\n",
      " 0.96862745 0.94509804 0.         0.         0.         0.\n",
      " 0.         0.         0.         0.         0.         0.\n",
      " 0.         0.         0.         0.         0.         0.\n",
      " 0.         0.         0.31372549 0.61176471 0.41960784 0.99215686\n",
      " 0.99215686 0.80392157 0.04313725 0.         0.16862745 0.60392157\n",
      " 0.         0.         0.         0.         0.         0.\n",
      " 0.         0.         0.         0.         0.         0.\n",
      " 0.         0.         0.         0.         0.         0.\n",
      " 0.         0.05490196 0.00392157 0.60392157 0.99215686 0.35294118\n",
      " 0.         0.         0.         0.         0.         0.\n",
      " 0.         0.         0.         0.         0.         0.\n",
      " 0.         0.         0.         0.         0.         0.\n",
      " 0.         0.         0.         0.         0.         0.\n",
      " 0.         0.54509804 0.99215686 0.74509804 0.00784314 0.\n",
      " 0.         0.         0.         0.         0.         0.\n",
      " 0.         0.         0.         0.         0.         0.\n",
      " 0.         0.         0.         0.         0.         0.\n",
      " 0.         0.         0.         0.         0.         0.04313725\n",
      " 0.74509804 0.99215686 0.2745098  0.         0.         0.\n",
      " 0.         0.         0.         0.         0.         0.\n",
      " 0.         0.         0.         0.         0.         0.\n",
      " 0.         0.         0.         0.         0.         0.\n",
      " 0.         0.         0.         0.         0.1372549  0.94509804\n",
      " 0.88235294 0.62745098 0.42352941 0.00392157 0.         0.\n",
      " 0.         0.         0.         0.         0.         0.\n",
      " 0.         0.         0.         0.         0.         0.\n",
      " 0.         0.         0.         0.         0.         0.\n",
      " 0.         0.         0.         0.31764706 0.94117647 0.99215686\n",
      " 0.99215686 0.46666667 0.09803922 0.         0.         0.\n",
      " 0.         0.         0.         0.         0.         0.\n",
      " 0.         0.         0.         0.         0.         0.\n",
      " 0.         0.         0.         0.         0.         0.\n",
      " 0.         0.         0.17647059 0.72941176 0.99215686 0.99215686\n",
      " 0.58823529 0.10588235 0.         0.         0.         0.\n",
      " 0.         0.         0.         0.         0.         0.\n",
      " 0.         0.         0.         0.         0.         0.\n",
      " 0.         0.         0.         0.         0.         0.\n",
      " 0.         0.0627451  0.36470588 0.98823529 0.99215686 0.73333333\n",
      " 0.         0.         0.         0.         0.         0.\n",
      " 0.         0.         0.         0.         0.         0.\n",
      " 0.         0.         0.         0.         0.         0.\n",
      " 0.         0.         0.         0.         0.         0.\n",
      " 0.         0.97647059 0.99215686 0.97647059 0.25098039 0.\n",
      " 0.         0.         0.         0.         0.         0.\n",
      " 0.         0.         0.         0.         0.         0.\n",
      " 0.         0.         0.         0.         0.         0.\n",
      " 0.         0.         0.18039216 0.50980392 0.71764706 0.99215686\n",
      " 0.99215686 0.81176471 0.00784314 0.         0.         0.\n",
      " 0.         0.         0.         0.         0.         0.\n",
      " 0.         0.         0.         0.         0.         0.\n",
      " 0.         0.         0.         0.         0.15294118 0.58039216\n",
      " 0.89803922 0.99215686 0.99215686 0.99215686 0.98039216 0.71372549\n",
      " 0.         0.         0.         0.         0.         0.\n",
      " 0.         0.         0.         0.         0.         0.\n",
      " 0.         0.         0.         0.         0.         0.\n",
      " 0.09411765 0.44705882 0.86666667 0.99215686 0.99215686 0.99215686\n",
      " 0.99215686 0.78823529 0.30588235 0.         0.         0.\n",
      " 0.         0.         0.         0.         0.         0.\n",
      " 0.         0.         0.         0.         0.         0.\n",
      " 0.         0.         0.09019608 0.25882353 0.83529412 0.99215686\n",
      " 0.99215686 0.99215686 0.99215686 0.77647059 0.31764706 0.00784314\n",
      " 0.         0.         0.         0.         0.         0.\n",
      " 0.         0.         0.         0.         0.         0.\n",
      " 0.         0.         0.         0.         0.07058824 0.67058824\n",
      " 0.85882353 0.99215686 0.99215686 0.99215686 0.99215686 0.76470588\n",
      " 0.31372549 0.03529412 0.         0.         0.         0.\n",
      " 0.         0.         0.         0.         0.         0.\n",
      " 0.         0.         0.         0.         0.         0.\n",
      " 0.21568627 0.6745098  0.88627451 0.99215686 0.99215686 0.99215686\n",
      " 0.99215686 0.95686275 0.52156863 0.04313725 0.         0.\n",
      " 0.         0.         0.         0.         0.         0.\n",
      " 0.         0.         0.         0.         0.         0.\n",
      " 0.         0.         0.         0.         0.53333333 0.99215686\n",
      " 0.99215686 0.99215686 0.83137255 0.52941176 0.51764706 0.0627451\n",
      " 0.         0.         0.         0.         0.         0.\n",
      " 0.         0.         0.         0.         0.         0.\n",
      " 0.         0.         0.         0.         0.         0.\n",
      " 0.         0.         0.         0.         0.         0.\n",
      " 0.         0.         0.         0.         0.         0.\n",
      " 0.         0.         0.         0.         0.         0.\n",
      " 0.         0.         0.         0.         0.         0.\n",
      " 0.         0.         0.         0.         0.         0.\n",
      " 0.         0.         0.         0.         0.         0.\n",
      " 0.         0.         0.         0.         0.         0.\n",
      " 0.         0.         0.         0.         0.         0.\n",
      " 0.         0.         0.         0.         0.         0.\n",
      " 0.         0.         0.         0.         0.         0.\n",
      " 0.         0.         0.         0.         0.         0.\n",
      " 0.         0.         0.         0.         0.         0.\n",
      " 0.         0.         0.         0.         0.         0.\n",
      " 0.         0.         0.         0.        ] (784,) [0. 0. 0. 0. 0. 1. 0. 0. 0. 0.]\n"
     ]
    }
   ],
   "source": [
    "img = x_train[0]\n",
    "print(img, img.shape, y_train[0])"
   ]
  },
  {
   "cell_type": "markdown",
   "metadata": {
    "id": "8STKvep1eC4v"
   },
   "source": [
    "#### Build Model"
   ]
  },
  {
   "cell_type": "code",
   "execution_count": 9,
   "metadata": {
    "executionInfo": {
     "elapsed": 5817,
     "status": "ok",
     "timestamp": 1614932004777,
     "user": {
      "displayName": "CY Li",
      "photoUrl": "https://lh3.googleusercontent.com/a-/AOh14GhUjBR-W3fjmzlI1F96TtArIXePd_MCbM8FFhB5fbI=s64",
      "userId": "11560903483017836470"
     },
     "user_tz": -480
    },
    "id": "twIJqpl-wMpl"
   },
   "outputs": [
    {
     "name": "stdout",
     "output_type": "stream",
     "text": [
      "WARNING:tensorflow:From C:\\Users\\Tingchun.TC.Hung\\Anaconda3\\envs\\NLP\\lib\\site-packages\\tensorflow_core\\python\\ops\\resource_variable_ops.py:1630: calling BaseResourceVariable.__init__ (from tensorflow.python.ops.resource_variable_ops) with constraint is deprecated and will be removed in a future version.\n",
      "Instructions for updating:\n",
      "If using Keras pass *_constraint arguments to layers.\n"
     ]
    }
   ],
   "source": [
    "# Model 1\n",
    "inputs = layers.Input(shape=(img_size*img_size,)) # input shape (784, )\n",
    "x = layers.Dense(units=10, activation='relu')(inputs)\n",
    "x = layers.Dense(20, activation=activations.relu)(x)\n",
    "prediction = layers.Dense(num_classes, activation='softmax')(x)\n",
    "model = models.Model(inputs=inputs, outputs=prediction)"
   ]
  },
  {
   "cell_type": "code",
   "execution_count": 10,
   "metadata": {
    "executionInfo": {
     "elapsed": 860,
     "status": "ok",
     "timestamp": 1614932010080,
     "user": {
      "displayName": "CY Li",
      "photoUrl": "https://lh3.googleusercontent.com/a-/AOh14GhUjBR-W3fjmzlI1F96TtArIXePd_MCbM8FFhB5fbI=s64",
      "userId": "11560903483017836470"
     },
     "user_tz": -480
    },
    "id": "N3n1KLUdwMpn"
   },
   "outputs": [],
   "source": [
    "# Model 2\n",
    "model2 = models.Sequential()\n",
    "model2.add(layers.Dense(units=10, activation='relu', input_shape=(img_size*img_size,)))\n",
    "model2.add(layers.Dense(units=20))\n",
    "model2.add(layers.Activation('relu'))\n",
    "model2.add(layers.Dense(num_classes, activation='softmax'))"
   ]
  },
  {
   "cell_type": "code",
   "execution_count": 11,
   "metadata": {
    "executionInfo": {
     "elapsed": 609,
     "status": "ok",
     "timestamp": 1614932131417,
     "user": {
      "displayName": "CY Li",
      "photoUrl": "https://lh3.googleusercontent.com/a-/AOh14GhUjBR-W3fjmzlI1F96TtArIXePd_MCbM8FFhB5fbI=s64",
      "userId": "11560903483017836470"
     },
     "user_tz": -480
    },
    "id": "STXWqjlRc4Fv"
   },
   "outputs": [],
   "source": [
    "# Model 3\n",
    "model3 = models.Sequential([layers.Dense(units=10, activation='relu', input_shape=(img_size*img_size,)),\n",
    "                            layers.Dense(units=20),\n",
    "                            layers.Activation('relu'),\n",
    "                            layers.Dense(num_classes, activation='softmax')\n",
    "])"
   ]
  },
  {
   "cell_type": "code",
   "execution_count": 12,
   "metadata": {
    "colab": {
     "base_uri": "https://localhost:8080/"
    },
    "executionInfo": {
     "elapsed": 733,
     "status": "ok",
     "timestamp": 1614932142169,
     "user": {
      "displayName": "CY Li",
      "photoUrl": "https://lh3.googleusercontent.com/a-/AOh14GhUjBR-W3fjmzlI1F96TtArIXePd_MCbM8FFhB5fbI=s64",
      "userId": "11560903483017836470"
     },
     "user_tz": -480
    },
    "id": "wivbMuaEwMpp",
    "outputId": "759dc65b-81cf-4362-cbde-60d60897afc5"
   },
   "outputs": [
    {
     "name": "stdout",
     "output_type": "stream",
     "text": [
      "Model: \"model\"\n",
      "_________________________________________________________________\n",
      "Layer (type)                 Output Shape              Param #   \n",
      "=================================================================\n",
      "input_1 (InputLayer)         [(None, 784)]             0         \n",
      "_________________________________________________________________\n",
      "dense (Dense)                (None, 10)                7850      \n",
      "_________________________________________________________________\n",
      "dense_1 (Dense)              (None, 20)                220       \n",
      "_________________________________________________________________\n",
      "dense_2 (Dense)              (None, 10)                210       \n",
      "=================================================================\n",
      "Total params: 8,280\n",
      "Trainable params: 8,280\n",
      "Non-trainable params: 0\n",
      "_________________________________________________________________\n"
     ]
    }
   ],
   "source": [
    "model.summary()"
   ]
  },
  {
   "cell_type": "markdown",
   "metadata": {
    "id": "vtOqbCgkd9PZ"
   },
   "source": [
    "#### Training"
   ]
  },
  {
   "cell_type": "code",
   "execution_count": 13,
   "metadata": {
    "colab": {
     "base_uri": "https://localhost:8080/",
     "height": 1000
    },
    "executionInfo": {
     "elapsed": 79195,
     "status": "error",
     "timestamp": 1614933016194,
     "user": {
      "displayName": "CY Li",
      "photoUrl": "https://lh3.googleusercontent.com/a-/AOh14GhUjBR-W3fjmzlI1F96TtArIXePd_MCbM8FFhB5fbI=s64",
      "userId": "11560903483017836470"
     },
     "user_tz": -480
    },
    "id": "MsbeskPgeeIh",
    "outputId": "7ecf027d-172b-448e-df97-00da1b528a68"
   },
   "outputs": [
    {
     "name": "stdout",
     "output_type": "stream",
     "text": [
      "Epoch: 0\n",
      "step : 0 loss: Tensor(\"categorical_crossentropy/weighted_loss/value:0\", shape=(), dtype=float32)\n"
     ]
    },
    {
     "name": "stderr",
     "output_type": "stream",
     "text": [
      "ERROR:root:Internal Python error in the inspect module.\n",
      "Below is the traceback from this internal error.\n",
      "\n",
      "\n",
      "KeyboardInterrupt\n",
      "\n"
     ]
    }
   ],
   "source": [
    "# Method 1 : training from scratch\n",
    "epochs = 10\n",
    "batch_size = 32\n",
    "# Instantiate an optimizer.\n",
    "optimizer = optimizers.SGD(learning_rate=1e-3)\n",
    "# Instantiate a loss function.\n",
    "loss_fn = losses.CategoricalCrossentropy()\n",
    "\n",
    "# Start training\n",
    "for epoch in range(epochs):\n",
    "    print(f'Epoch: {epoch}')\n",
    "\n",
    "    for step, idx in enumerate(range(0, len(x_train), batch_size)):\n",
    "        # get x, y data\n",
    "        x_batch = x_train[idx:idx+batch_size]\n",
    "        y_batch = y_train[idx:idx+batch_size]\n",
    "\n",
    "        # compute loss\n",
    "        with tf.GradientTape() as tape:\n",
    "            pred = model(x_batch)\n",
    "            loss_value = loss_fn(y_batch, pred)\n",
    "        # get gradient\n",
    "        grads = tape.gradient(loss_value, model.trainable_weights)\n",
    "        # update model\n",
    "        optimizer.apply_gradients(zip(grads, model.trainable_weights))\n",
    "\n",
    "        if step % 200 == 0:\n",
    "            print(f'step : {step} loss: {loss_value}')"
   ]
  },
  {
   "cell_type": "code",
   "execution_count": 14,
   "metadata": {
    "executionInfo": {
     "elapsed": 739,
     "status": "ok",
     "timestamp": 1614932192038,
     "user": {
      "displayName": "CY Li",
      "photoUrl": "https://lh3.googleusercontent.com/a-/AOh14GhUjBR-W3fjmzlI1F96TtArIXePd_MCbM8FFhB5fbI=s64",
      "userId": "11560903483017836470"
     },
     "user_tz": -480
    },
    "id": "b64Ju7UnwMps"
   },
   "outputs": [],
   "source": [
    "# Method 2\n",
    "\n",
    "# Setting for training\n",
    "model.compile(loss=losses.categorical_crossentropy, # loss function\n",
    "              optimizer=optimizers.SGD(),\n",
    "              metrics=['accuracy']\n",
    "              )"
   ]
  },
  {
   "cell_type": "code",
   "execution_count": null,
   "metadata": {},
   "outputs": [],
   "source": []
  },
  {
   "cell_type": "code",
   "execution_count": 15,
   "metadata": {
    "colab": {
     "base_uri": "https://localhost:8080/"
    },
    "executionInfo": {
     "elapsed": 17010,
     "status": "ok",
     "timestamp": 1614932220102,
     "user": {
      "displayName": "CY Li",
      "photoUrl": "https://lh3.googleusercontent.com/a-/AOh14GhUjBR-W3fjmzlI1F96TtArIXePd_MCbM8FFhB5fbI=s64",
      "userId": "11560903483017836470"
     },
     "user_tz": -480
    },
    "id": "EuIgYeCqwMpu",
    "outputId": "9862acf7-40e0-4953-c953-4bafedfe1cd5"
   },
   "outputs": [
    {
     "name": "stdout",
     "output_type": "stream",
     "text": [
      "Train on 60000 samples, validate on 10000 samples\n",
      "Epoch 1/10\n",
      "59648/60000 [============================>.] - ETA: 0s - loss: 1.8356 - acc: 0.4096"
     ]
    },
    {
     "name": "stderr",
     "output_type": "stream",
     "text": [
      "ERROR:root:Internal Python error in the inspect module.\n",
      "Below is the traceback from this internal error.\n",
      "\n",
      "\n",
      "KeyboardInterrupt\n",
      "\n"
     ]
    }
   ],
   "source": [
    "logs = model.fit(x_train, y_train,\n",
    "                batch_size=128,\n",
    "                epochs=10,\n",
    "                validation_data=(x_test, y_test))"
   ]
  },
  {
   "cell_type": "code",
   "execution_count": 21,
   "metadata": {
    "colab": {
     "base_uri": "https://localhost:8080/"
    },
    "executionInfo": {
     "elapsed": 1959,
     "status": "ok",
     "timestamp": 1614932232498,
     "user": {
      "displayName": "CY Li",
      "photoUrl": "https://lh3.googleusercontent.com/a-/AOh14GhUjBR-W3fjmzlI1F96TtArIXePd_MCbM8FFhB5fbI=s64",
      "userId": "11560903483017836470"
     },
     "user_tz": -480
    },
    "id": "oCwl5cTewMpx",
    "outputId": "9976f991-30ff-4f71-a03c-28749ae42a76"
   },
   "outputs": [
    {
     "name": "stdout",
     "output_type": "stream",
     "text": [
      "test loss: 0.31901150941848755, test acc: 0.9086999893188477\n"
     ]
    }
   ],
   "source": [
    "score = model.evaluate(x_test, y_test, verbose=0)\n",
    "print(f'test loss: {score[0]}, test acc: {score[1]}')"
   ]
  },
  {
   "cell_type": "code",
   "execution_count": 22,
   "metadata": {
    "colab": {
     "base_uri": "https://localhost:8080/"
    },
    "executionInfo": {
     "elapsed": 594,
     "status": "ok",
     "timestamp": 1614932236850,
     "user": {
      "displayName": "CY Li",
      "photoUrl": "https://lh3.googleusercontent.com/a-/AOh14GhUjBR-W3fjmzlI1F96TtArIXePd_MCbM8FFhB5fbI=s64",
      "userId": "11560903483017836470"
     },
     "user_tz": -480
    },
    "id": "U_JRuyYTwMpz",
    "outputId": "818ff392-8b26-4a87-9f50-71812961cd60"
   },
   "outputs": [
    {
     "name": "stdout",
     "output_type": "stream",
     "text": [
      "model prediction:  [[5.1268807e-04 7.4541977e-06 5.2556209e-04 9.9886314e-04 1.4608014e-06\n",
      "  7.0902515e-06 5.3859833e-07 9.9680066e-01 9.9096233e-06 1.1356614e-03]]\n",
      "max probabolity index:  [7]\n"
     ]
    }
   ],
   "source": [
    "prediction = model.predict(x_test[:1])\n",
    "print('model prediction: ', prediction)\n",
    "print('max probabolity index: ', np.argmax(prediction, axis=-1))"
   ]
  },
  {
   "cell_type": "code",
   "execution_count": 24,
   "metadata": {
    "executionInfo": {
     "elapsed": 947,
     "status": "ok",
     "timestamp": 1614932248326,
     "user": {
      "displayName": "CY Li",
      "photoUrl": "https://lh3.googleusercontent.com/a-/AOh14GhUjBR-W3fjmzlI1F96TtArIXePd_MCbM8FFhB5fbI=s64",
      "userId": "11560903483017836470"
     },
     "user_tz": -480
    },
    "id": "89NwtdhbwMp2"
   },
   "outputs": [],
   "source": [
    "history = logs.history"
   ]
  },
  {
   "cell_type": "code",
   "execution_count": 25,
   "metadata": {
    "colab": {
     "base_uri": "https://localhost:8080/",
     "height": 298
    },
    "executionInfo": {
     "elapsed": 775,
     "status": "ok",
     "timestamp": 1614932252720,
     "user": {
      "displayName": "CY Li",
      "photoUrl": "https://lh3.googleusercontent.com/a-/AOh14GhUjBR-W3fjmzlI1F96TtArIXePd_MCbM8FFhB5fbI=s64",
      "userId": "11560903483017836470"
     },
     "user_tz": -480
    },
    "id": "ZKDX0rwfwMp5",
    "outputId": "bd6c38fc-1067-4938-ffd2-b2b00071572b"
   },
   "outputs": [
    {
     "data": {
      "text/plain": [
       "Text(0.5, 1.0, 'accuracy')"
      ]
     },
     "execution_count": 25,
     "metadata": {
      "tags": []
     },
     "output_type": "execute_result"
    },
    {
     "data": {
      "image/png": "[encoded data removed]",
      "text/plain": [
       "<Figure size 432x288 with 1 Axes>"
      ]
     },
     "metadata": {
      "needs_background": "light",
      "tags": []
     },
     "output_type": "display_data"
    }
   ],
   "source": [
    "plt.plot(history['accuracy'])\n",
    "plt.plot(history['val_accuracy'])\n",
    "plt.legend(['accuracy', 'val_accuracy'])\n",
    "plt.title('accuracy')"
   ]
  },
  {
   "cell_type": "code",
   "execution_count": 26,
   "metadata": {
    "colab": {
     "base_uri": "https://localhost:8080/",
     "height": 298
    },
    "executionInfo": {
     "elapsed": 1367,
     "status": "ok",
     "timestamp": 1614932258190,
     "user": {
      "displayName": "CY Li",
      "photoUrl": "https://lh3.googleusercontent.com/a-/AOh14GhUjBR-W3fjmzlI1F96TtArIXePd_MCbM8FFhB5fbI=s64",
      "userId": "11560903483017836470"
     },
     "user_tz": -480
    },
    "id": "jMyM477lwMp8",
    "outputId": "cd34db4f-55ad-4af8-de26-a0df5a6381bb"
   },
   "outputs": [
    {
     "data": {
      "text/plain": [
       "Text(0.5, 1.0, 'loss')"
      ]
     },
     "execution_count": 26,
     "metadata": {
      "tags": []
     },
     "output_type": "execute_result"
    },
    {
     "data": {
      "image/png": "[encoded data removed]",
      "text/plain": [
       "<Figure size 432x288 with 1 Axes>"
      ]
     },
     "metadata": {
      "needs_background": "light",
      "tags": []
     },
     "output_type": "display_data"
    }
   ],
   "source": [
    "plt.plot(history['loss'])\n",
    "plt.plot(history['val_loss'])\n",
    "plt.legend(['loss', 'val_loss'])\n",
    "plt.title('loss')"
   ]
  },
  {
   "cell_type": "markdown",
   "metadata": {
    "id": "RFCO2Su8dyTX"
   },
   "source": [
    "#### Metrics"
   ]
  },
  {
   "cell_type": "code",
   "execution_count": 27,
   "metadata": {
    "colab": {
     "base_uri": "https://localhost:8080/"
    },
    "executionInfo": {
     "elapsed": 1395,
     "status": "ok",
     "timestamp": 1614932298697,
     "user": {
      "displayName": "CY Li",
      "photoUrl": "https://lh3.googleusercontent.com/a-/AOh14GhUjBR-W3fjmzlI1F96TtArIXePd_MCbM8FFhB5fbI=s64",
      "userId": "11560903483017836470"
     },
     "user_tz": -480
    },
    "id": "OcAftD_1jAwf",
    "outputId": "0f393e0a-e2a4-4fa5-e132-7a9d82ba8dd6"
   },
   "outputs": [
    {
     "name": "stdout",
     "output_type": "stream",
     "text": [
      "(10000,) (10000,)\n"
     ]
    }
   ],
   "source": [
    "from sklearn.metrics import classification_report, confusion_matrix\n",
    "y_true = np.argmax(y_test, axis=-1) # Ground Truth\n",
    "y_pred = np.argmax(model.predict(x_test), axis=-1) # Model prediction\n",
    "print(y_true.shape, y_pred.shape)\n"
   ]
  },
  {
   "cell_type": "code",
   "execution_count": 29,
   "metadata": {
    "colab": {
     "base_uri": "https://localhost:8080/"
    },
    "executionInfo": {
     "elapsed": 602,
     "status": "ok",
     "timestamp": 1614932307828,
     "user": {
      "displayName": "CY Li",
      "photoUrl": "https://lh3.googleusercontent.com/a-/AOh14GhUjBR-W3fjmzlI1F96TtArIXePd_MCbM8FFhB5fbI=s64",
      "userId": "11560903483017836470"
     },
     "user_tz": -480
    },
    "id": "hJsCXNhmX8XM",
    "outputId": "cfeaf86d-2a32-4957-c607-f08a7f22c06f"
   },
   "outputs": [
    {
     "name": "stdout",
     "output_type": "stream",
     "text": [
      "              precision    recall  f1-score   support\n",
      "\n",
      "           0       0.92      0.98      0.95       980\n",
      "           1       0.96      0.97      0.97      1135\n",
      "           2       0.92      0.88      0.90      1032\n",
      "           3       0.87      0.91      0.89      1010\n",
      "           4       0.90      0.94      0.92       982\n",
      "           5       0.88      0.82      0.85       892\n",
      "           6       0.93      0.93      0.93       958\n",
      "           7       0.92      0.91      0.91      1028\n",
      "           8       0.87      0.84      0.86       974\n",
      "           9       0.90      0.88      0.89      1009\n",
      "\n",
      "    accuracy                           0.91     10000\n",
      "   macro avg       0.91      0.91      0.91     10000\n",
      "weighted avg       0.91      0.91      0.91     10000\n",
      "\n"
     ]
    }
   ],
   "source": [
    "# Classification Report\n",
    "# Ref: https://scikit-learn.org/stable/modules/generated/sklearn.metrics.classification_report.html\n",
    "label_names = [str(i) for i in range(10)] # ['0' ~  '9']\n",
    "print(classification_report(y_true, y_pred, target_names=label_names))"
   ]
  },
  {
   "cell_type": "code",
   "execution_count": 30,
   "metadata": {
    "colab": {
     "base_uri": "https://localhost:8080/"
    },
    "executionInfo": {
     "elapsed": 619,
     "status": "ok",
     "timestamp": 1614932311675,
     "user": {
      "displayName": "CY Li",
      "photoUrl": "https://lh3.googleusercontent.com/a-/AOh14GhUjBR-W3fjmzlI1F96TtArIXePd_MCbM8FFhB5fbI=s64",
      "userId": "11560903483017836470"
     },
     "user_tz": -480
    },
    "id": "oW1lY-KRYCpB",
    "outputId": "e341161d-c191-4b13-9e78-73d83bc26aba"
   },
   "outputs": [
    {
     "name": "stdout",
     "output_type": "stream",
     "text": [
      "[[ 963    0    4    1    0    5    3    3    1    0]\n",
      " [   0 1106    1    5    0    1    4    2   16    0]\n",
      " [  13   10  906   22   10    3   18   15   31    4]\n",
      " [   4    1   16  921    1   23    2   16   20    6]\n",
      " [   1    1    3    4  922    0   11    2    6   32]\n",
      " [  23    1    5   51    9  732   19    8   37    7]\n",
      " [  21    2    7    1   14   15  894    3    1    0]\n",
      " [   5    9   27    8    9    0    0  939    2   29]\n",
      " [   6   14    8   30   11   51   13    6  820   15]\n",
      " [  13    5    3   11   46    6    0   32    9  884]]\n"
     ]
    }
   ],
   "source": [
    "# Confusion Matrix: \n",
    "# Row: Truth\n",
    "# Column: Prediction\n",
    "# Ref: https://scikit-learn.org/stable/modules/generated/sklearn.metrics.confusion_matrix.html\n",
    "print(confusion_matrix(y_true, y_pred))"
   ]
  },
  {
   "cell_type": "markdown",
   "metadata": {
    "id": "jHqsJpz4dtuP"
   },
   "source": [
    "#### Save & load model"
   ]
  },
  {
   "cell_type": "code",
   "execution_count": null,
   "metadata": {
    "id": "0hzsJPLWwMp_"
   },
   "outputs": [],
   "source": [
    "prediction = model.predict(x_test[:1])\n",
    "print('predictions BEFORE saving model: ', prediction)\n",
    "\n",
    "model.save('my_model.h5')\n",
    "del model\n",
    "\n",
    "model = models.load_model('my_model.h5')\n",
    "prediction = model.predict(x_test[:1])\n",
    "print('prediction AFTER reloading model', prediction)"
   ]
  },
  {
   "cell_type": "code",
   "execution_count": null,
   "metadata": {
    "id": "RTvKn3Mfw-Iy"
   },
   "outputs": [],
   "source": [
    "# save and load weights only\n",
    "model.save_weights('my_model_weights.h5')\n",
    "\n",
    "# Rebuild model before load weights !\n",
    "model.load_weights('my_model_weights.h5')"
   ]
  },
  {
   "cell_type": "code",
   "execution_count": null,
   "metadata": {
    "id": "ikGvw3i2i5ob"
   },
   "outputs": [],
   "source": []
  }
 ],
 "metadata": {
  "accelerator": "GPU",
  "colab": {
   "collapsed_sections": [
    "WXajqeGESoSn",
    "8STKvep1eC4v"
   ],
   "name": "01tf.keras-basic.ipynb",
   "provenance": []
  },
  "kernelspec": {
   "display_name": "Python 3",
   "language": "python",
   "name": "python3"
  },
  "language_info": {
   "codemirror_mode": {
    "name": "ipython",
    "version": 3
   },
   "file_extension": ".py",
   "mimetype": "text/x-python",
   "name": "python",
   "nbconvert_exporter": "python",
   "pygments_lexer": "ipython3",
   "version": "3.6.12"
  }
 },
 "nbformat": 4,
 "nbformat_minor": 4
}
