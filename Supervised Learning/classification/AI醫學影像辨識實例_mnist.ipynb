{
 "cells": [
  {
   "cell_type": "markdown",
   "metadata": {
    "id": "cYG8xzuLr-HI"
   },
   "source": [
    "# Excercse MNIST\n",
    "1. complete the training process\n",
    "2. Get the MAX accuracy and MIN loss of your final model"
   ]
  },
  {
   "cell_type": "code",
   "execution_count": 3,
   "metadata": {
    "executionInfo": {
     "elapsed": 2546,
     "status": "ok",
     "timestamp": 1614939607706,
     "user": {
      "displayName": "CY Li",
      "photoUrl": "https://lh3.googleusercontent.com/a-/AOh14GhUjBR-W3fjmzlI1F96TtArIXePd_MCbM8FFhB5fbI=s64",
      "userId": "11560903483017836470"
     },
     "user_tz": -480
    },
    "id": "7JqIcnWvwMpc"
   },
   "outputs": [],
   "source": [
    "import pandas as pd\n",
    "import numpy as np\n",
    "import matplotlib.pyplot as plt\n",
    "\n",
    "import tensorflow as tf\n",
    "from tensorflow.keras import datasets, models, layers, utils, activations, losses, optimizers, metrics # DNN 系列\n",
    "from tensorflow.keras.layers import Dense, LSTM,Bidirectional,SimpleRNN,GRU,Activation # RNN系列\n",
    "from tensorflow.keras.layers import Dense, Dropout, Flatten, Conv2D, MaxPooling2D # CNN系列\n",
    "from tensorflow.keras.layers import Input,BatchNormalization,AveragePooling2D # ResNet系列\n",
    "from tensorflow.keras.regularizers import l2 # ResNet系列\n",
    "from tensorflow import keras # ResNet系列\n",
    "from tensorflow.keras.models import Model # ResNet系列\n",
    "from tensorflow.keras.callbacks import ModelCheckpoint\n",
    "\n",
    "from tensorflow.keras.preprocessing.image import ImageDataGenerator\n",
    "\n",
    "from sklearn.model_selection import train_test_split\n",
    "from sklearn.metrics import classification_report,confusion_matrix,accuracy_score,precision_score,recall_score,f1_score"
   ]
  },
  {
   "cell_type": "markdown",
   "metadata": {
    "id": "WXajqeGESoSn"
   },
   "source": [
    "## Prepare Data"
   ]
  },
  {
   "cell_type": "raw",
   "metadata": {
    "colab": {
     "base_uri": "https://localhost:8080/"
    },
    "executionInfo": {
     "elapsed": 6020,
     "status": "ok",
     "timestamp": 1614939611289,
     "user": {
      "displayName": "CY Li",
      "photoUrl": "https://lh3.googleusercontent.com/a-/AOh14GhUjBR-W3fjmzlI1F96TtArIXePd_MCbM8FFhB5fbI=s64",
      "userId": "11560903483017836470"
     },
     "user_tz": -480
    },
    "id": "JNrVIx0k2Ivm",
    "outputId": "f7d6b8d4-4850-453c-c8e5-eb95f286d93c"
   },
   "source": [
    "# download from google drive\n",
    "!gdown --id '1R8xj7WxyQhR15jS_GS7tTiunTVBxUg6j' --output mnist.npz"
   ]
  },
  {
   "cell_type": "code",
   "execution_count": 4,
   "metadata": {
    "colab": {
     "base_uri": "https://localhost:8080/"
    },
    "executionInfo": {
     "elapsed": 4288,
     "status": "ok",
     "timestamp": 1614939611291,
     "user": {
      "displayName": "CY Li",
      "photoUrl": "https://lh3.googleusercontent.com/a-/AOh14GhUjBR-W3fjmzlI1F96TtArIXePd_MCbM8FFhB5fbI=s64",
      "userId": "11560903483017836470"
     },
     "user_tz": -480
    },
    "id": "s0PDCZGkwMpi",
    "outputId": "d0375439-f976-4413-f7dd-1c3d81b75d77"
   },
   "outputs": [
    {
     "data": {
      "text/plain": [
       "((60000, 28, 28), (60000,), (10000, 28, 28), (10000,))"
      ]
     },
     "execution_count": 4,
     "metadata": {},
     "output_type": "execute_result"
    }
   ],
   "source": [
    "# Load Data from file\n",
    "with np.load('D:/Record/AI_技術/電腦視覺/醫學影像分析/【基礎班】L2課程檔案/HW_mnist/mnist.npz', allow_pickle=True) as f:\n",
    "    x_train, y_train = f['x_train'], f['y_train']\n",
    "    x_test, y_test = f['x_test'], f['y_test']\n",
    "\n",
    "# Data shape\n",
    "x_train.shape, y_train.shape, x_test.shape, y_test.shape"
   ]
  },
  {
   "cell_type": "code",
   "execution_count": 5,
   "metadata": {},
   "outputs": [],
   "source": [
    "def plot_images_labels_prediction(images,labels,prediction,idx,num=10):\n",
    "    fig = plt.gcf()\n",
    "    fig.set_size_inches(12, 14)\n",
    "    if num>25: num=25 \n",
    "    for i in range(0, num):\n",
    "        ax=plt.subplot(5,5, 1+i)\n",
    "        ax.imshow(images[idx], cmap='binary')\n",
    "        title= \"label=\" +str(labels[idx])\n",
    "        if len(prediction)>0:\n",
    "            title+=\",predict=\"+str(prediction[idx]) \n",
    "            \n",
    "        ax.set_title(title,fontsize=10) \n",
    "        ax.set_xticks([]);ax.set_yticks([])        \n",
    "        idx+=1 \n",
    "    plt.show()"
   ]
  },
  {
   "cell_type": "code",
   "execution_count": 6,
   "metadata": {},
   "outputs": [
    {
     "data": {
      "image/png": "[encoded data removed]",
      "text/plain": [
       "<Figure size 864x1008 with 10 Axes>"
      ]
     },
     "metadata": {},
     "output_type": "display_data"
    }
   ],
   "source": [
    "plot_images_labels_prediction(x_train,y_train,[],0,10)"
   ]
  },
  {
   "cell_type": "markdown",
   "metadata": {
    "id": "8STKvep1eC4v"
   },
   "source": [
    "## Define Parameters"
   ]
  },
  {
   "cell_type": "code",
   "execution_count": 47,
   "metadata": {
    "executionInfo": {
     "elapsed": 2501,
     "status": "ok",
     "timestamp": 1614939607708,
     "user": {
      "displayName": "CY Li",
      "photoUrl": "https://lh3.googleusercontent.com/a-/AOh14GhUjBR-W3fjmzlI1F96TtArIXePd_MCbM8FFhB5fbI=s64",
      "userId": "11560903483017836470"
     },
     "user_tz": -480
    },
    "id": "gDg9Aq-aSCNF"
   },
   "outputs": [],
   "source": [
    "# --------------------------------- Data ------------------------------------\n",
    "num_classes = 10\n",
    "img_rows, img_cols = x_train.shape[1] , x_train.shape[2] # 定義圖像寬、高\n",
    "RGB = 1\n",
    "\n",
    "# --------------------------------- Data Augmentation ------------------------------------\n",
    "ImageDataGenerator_threshold = False # True/False\n",
    "\n",
    "ver = ''\n",
    "if ImageDataGenerator_threshold :\n",
    "    ver += '.1'\n",
    "\n",
    "# --------------------------------- Model ------------------------------------\n",
    "Mode = 4 # 1 for 1-V / 2 for 2-V / 3 for 3-V\n",
    "Epochs = 60\n",
    "Batch_size = 128\n",
    "n = 3 # mode 5、6 for ResNet\n",
    "Pool_size = 7 # mode 5、6 for ResNet\n",
    "\n",
    "# --------------------------------- Path ------------------------------------\n",
    "Path = \"D:/Record/AI_技術/電腦視覺/醫學影像分析/【基礎班】L2課程檔案/HW_mnist/\"\n",
    "filepath = Path+\"weights-improvement_mode\"+str(Mode)+ver+\".hdf5\" # -{epoch:02d}-{val_acc:.2f}\n",
    "CSVpath = Path+\"result_mode\"+str(Mode)+ver+\"_Epoch\"+str(Epochs)+\".csv\"\n",
    "Recordpath = Path+\"Recordscore.txt\"\n",
    "ACCpng = Path+\"Accuracy_mode\"+str(Mode)+ver+\"_Epoch\"+str(Epochs)+\".png\"\n",
    "LOSSpng = Path+\"Loss_mode\"+str(Mode)+ver+\"_Epoch\"+str(Epochs)+\".png\""
   ]
  },
  {
   "cell_type": "markdown",
   "metadata": {
    "id": "8STKvep1eC4v"
   },
   "source": [
    "## Data Process"
   ]
  },
  {
   "cell_type": "code",
   "execution_count": 48,
   "metadata": {},
   "outputs": [
    {
     "name": "stdout",
     "output_type": "stream",
     "text": [
      "(48000, 28, 28, 1) (12000, 28, 28, 1) (48000,) (12000,)\n"
     ]
    }
   ],
   "source": [
    "# --------------------------------- reshape ------------------------------------\n",
    "if Mode == 1 : # for DNN\n",
    "    x_Train_big = x_train.reshape(x_train.shape[0], -1) # Flatten img to a vector\n",
    "    x_Test = x_test.reshape(x_test.shape[0], -1)\n",
    "    \n",
    "elif Mode == 2 : # for RNN Model\n",
    "    x_Train_big = x_train.reshape(x_train.shape[0], img_rows, img_cols*RGB) # Flatten img to a vector\n",
    "    x_Test = x_test.reshape(x_test.shape[0], img_rows, img_cols*RGB)\n",
    "    \n",
    "elif Mode in [3,4,5,6] : # for CNN Model\n",
    "    x_Train_big = x_train.reshape(x_train.shape[0], img_rows, img_cols, RGB) # rashape size\n",
    "    x_Test = x_test.reshape(x_test.shape[0], img_rows, img_cols, RGB)\n",
    "    input_shape = (img_rows, img_cols, RGB)\n",
    "    \n",
    "# --------------------------------- normalization ------------------------------------\n",
    "# normalization 轉換色彩 0~255 資料為 0~1\n",
    "x_Train_big = x_Train_big.astype('float32')\n",
    "x_Test = x_Test.astype('float32')\n",
    "x_Train_big /= 255\n",
    "x_Test /= 255\n",
    "\n",
    "# --------------------------------- split dataset ------------------------------------\n",
    "''' 因訓練時不知道test data答案，因此額外切出val data作為挑選模型用 '''\n",
    "\n",
    "x_Train, x_Val, y_Train, y_Val = train_test_split(x_Train_big, y_train, test_size=0.2)\n",
    "input_shape = x_Train.shape[1:]\n",
    "print ( x_Train.shape, x_Val.shape, y_Train.shape, y_Val.shape )\n",
    "\n",
    "# --------------------------------- one hot encoding ------------------------------------\n",
    "y_Train_OneHot = utils.to_categorical(y_Train, num_classes=num_classes)\n",
    "y_Val_OneHot = utils.to_categorical(y_Val, num_classes=num_classes)\n",
    "y_Test_OneHot = utils.to_categorical(y_test, num_classes=num_classes)"
   ]
  },
  {
   "cell_type": "markdown",
   "metadata": {
    "id": "8STKvep1eC4v"
   },
   "source": [
    "## Build Model"
   ]
  },
  {
   "cell_type": "code",
   "execution_count": 49,
   "metadata": {
    "colab": {
     "base_uri": "https://localhost:8080/"
    },
    "executionInfo": {
     "elapsed": 1032,
     "status": "ok",
     "timestamp": 1614939641187,
     "user": {
      "displayName": "CY Li",
      "photoUrl": "https://lh3.googleusercontent.com/a-/AOh14GhUjBR-W3fjmzlI1F96TtArIXePd_MCbM8FFhB5fbI=s64",
      "userId": "11560903483017836470"
     },
     "user_tz": -480
    },
    "id": "r5LcWzCeU7oS",
    "outputId": "a8582818-a53e-4315-871c-125fdfd684af"
   },
   "outputs": [
    {
     "name": "stdout",
     "output_type": "stream",
     "text": [
      "Model: \"sequential_2\"\n",
      "_________________________________________________________________\n",
      "Layer (type)                 Output Shape              Param #   \n",
      "=================================================================\n",
      "conv2d_74 (Conv2D)           (None, 28, 28, 64)        640       \n",
      "_________________________________________________________________\n",
      "conv2d_75 (Conv2D)           (None, 28, 28, 64)        36928     \n",
      "_________________________________________________________________\n",
      "max_pooling2d_6 (MaxPooling2 (None, 14, 14, 64)        0         \n",
      "_________________________________________________________________\n",
      "conv2d_76 (Conv2D)           (None, 14, 14, 128)       73856     \n",
      "_________________________________________________________________\n",
      "conv2d_77 (Conv2D)           (None, 14, 14, 128)       147584    \n",
      "_________________________________________________________________\n",
      "max_pooling2d_7 (MaxPooling2 (None, 7, 7, 128)         0         \n",
      "_________________________________________________________________\n",
      "conv2d_78 (Conv2D)           (None, 7, 7, 128)         147584    \n",
      "_________________________________________________________________\n",
      "conv2d_79 (Conv2D)           (None, 7, 7, 128)         147584    \n",
      "_________________________________________________________________\n",
      "max_pooling2d_8 (MaxPooling2 (None, 3, 3, 128)         0         \n",
      "_________________________________________________________________\n",
      "flatten_4 (Flatten)          (None, 1152)              0         \n",
      "_________________________________________________________________\n",
      "dense_6 (Dense)              (None, 512)               590336    \n",
      "_________________________________________________________________\n",
      "dropout_2 (Dropout)          (None, 512)               0         \n",
      "_________________________________________________________________\n",
      "dense_7 (Dense)              (None, 10)                5130      \n",
      "=================================================================\n",
      "Total params: 1,149,642\n",
      "Trainable params: 1,149,642\n",
      "Non-trainable params: 0\n",
      "_________________________________________________________________\n",
      "None\n"
     ]
    }
   ],
   "source": [
    "if Mode == 1 : # DNN Model\n",
    "    # Build model \n",
    "    model = models.Sequential()\n",
    "    model.add(layers.Dense(units=20, activation='relu', input_shape=(img_rows*img_cols*RGB,)))\n",
    "    model.add(layers.Dense(units=20))\n",
    "    model.add(layers.Activation('relu'))\n",
    "    model.add(layers.Dense(num_classes, activation='softmax'))\n",
    "\n",
    "elif Mode == 2 : # RNN Model\n",
    "    model = models.Sequential()\n",
    "    model.add(SimpleRNN(\n",
    "      batch_input_shape=(None, img_rows,img_cols*RGB), \n",
    "      units= 50,\n",
    "      unroll=True,\n",
    "    )) \n",
    "    model.add(Dense(units=num_classes, kernel_initializer='normal', activation='softmax'))\n",
    "    \n",
    "elif Mode == 3 : # CNN Model\n",
    "    # 建立簡單的線性執行的模型\n",
    "    model = models.Sequential()\n",
    "    # 建立卷積層，filter=32,即 output space 的深度, Kernal Size: 3x3, activation function 採用 relu\n",
    "    model.add(Conv2D(32, kernel_size=(3, 3),\n",
    "                     activation='relu',\n",
    "                     input_shape=input_shape))\n",
    "    # 建立卷積層，filter=64,即 output size, Kernal Size: 3x3, activation function 採用 relu\n",
    "    model.add(Conv2D(64, (3, 3), activation='relu'))\n",
    "    # 建立池化層，池化大小=2x2，取最大值\n",
    "    model.add(MaxPooling2D(pool_size=(2, 2)))\n",
    "    # Dropout層隨機斷開輸入神經元，用於防止過度擬合，斷開比例:0.25\n",
    "    model.add(Dropout(0.25))\n",
    "    # Flatten層把多維的輸入一維化，常用在從卷積層到全連接層的過渡。\n",
    "    model.add(Flatten())\n",
    "    # 全連接層: 128個output\n",
    "    model.add(Dense(128, activation='relu'))\n",
    "    # Dropout層隨機斷開輸入神經元，用於防止過度擬合，斷開比例:0.5\n",
    "    model.add(Dropout(0.5))\n",
    "    # 使用 softmax activation function，將結果分類\n",
    "    model.add(Dense(num_classes, activation='softmax'))\n",
    "\n",
    "elif Mode == 4 : # VGG\n",
    "    model =  models.Sequential()\n",
    "    model.add(Conv2D(filters=64, kernel_size=3, input_shape=(img_rows, img_cols, RGB), activation='relu', padding='same'))\n",
    "    model.add(Conv2D(filters=64, kernel_size=3, input_shape=(img_rows, img_cols, RGB), activation='relu', padding='same'))\n",
    "    model.add(MaxPooling2D(pool_size=2))\n",
    "\n",
    "    model.add(Conv2D(filters=128, kernel_size=3, activation='relu', padding='same'))\n",
    "    model.add(Conv2D(filters=128, kernel_size=3, activation='relu', padding='same'))\n",
    "    model.add(MaxPooling2D(pool_size=2))\n",
    "\n",
    "    model.add(Conv2D(filters=128, kernel_size=3, activation='relu', padding='same'))\n",
    "    model.add(Conv2D(filters=128, kernel_size=3, activation='relu', padding='same'))\n",
    "    model.add(MaxPooling2D(pool_size=2))\n",
    "\n",
    "    model.add(Flatten())\n",
    "    model.add(Dense(512, activation='relu'))\n",
    "    model.add(Dropout(rate=0.25))\n",
    "    model.add(Dense(10, activation='softmax'))\n",
    "\n",
    "elif Mode in [5,6] : # Resnet v1 & v2\n",
    "    def resnet_layer(inputs,\n",
    "                     num_filters=16,\n",
    "                     kernel_size=3,\n",
    "                     strides=1,\n",
    "                     activation='relu',\n",
    "                     batch_normalization=True,\n",
    "                     conv_first=True):\n",
    "        \"\"\"2D 卷积批量标准化 - 激活栈构建器\n",
    "        # 参数\n",
    "            inputs (tensor): 从输入图像或前一层来的输入张量\n",
    "            num_filters (int): Conv2D 过滤器数量\n",
    "            kernel_size (int): Conv2D 方形核维度\n",
    "            strides (int): Conv2D 方形步幅维度\n",
    "            activation (string): 激活函数名\n",
    "            batch_normalization (bool): 是否包含批标准化\n",
    "            conv_first (bool): conv-bn-activation (True) 或\n",
    "                bn-activation-conv (False)\n",
    "        # 返回\n",
    "            x (tensor): 作为下一层输入的张量\n",
    "        \"\"\"\n",
    "        conv = Conv2D(num_filters,\n",
    "                      kernel_size=kernel_size,\n",
    "                      strides=strides,\n",
    "                      padding='same',\n",
    "                      kernel_initializer='he_normal',\n",
    "                      kernel_regularizer=l2(1e-4))\n",
    "\n",
    "        x = inputs\n",
    "        if conv_first:\n",
    "            x = conv(x)\n",
    "            if batch_normalization:\n",
    "                x = BatchNormalization()(x)\n",
    "            if activation is not None:\n",
    "                x = Activation(activation)(x)\n",
    "        else:\n",
    "            if batch_normalization:\n",
    "                x = BatchNormalization()(x)\n",
    "            if activation is not None:\n",
    "                x = Activation(activation)(x)\n",
    "            x = conv(x)\n",
    "        return x\n",
    "\n",
    "    def resnet_v1(input_shape, depth, num_classes=10):\n",
    "        \"\"\"ResNet 版本 1 模型构建器 [a]\n",
    "\n",
    "        2 x (3 x 3) Conv2D-BN-ReLU 的堆栈\n",
    "        最后一个 ReLU 在快捷连接之后。\n",
    "        在每个阶段的开始，特征图大小由具有 strides=2 的卷积层减半（下采样），\n",
    "        而滤波器的数量加倍。在每个阶段中，这些层具有相同数量的过滤器和相同的特征图尺寸。\n",
    "        特征图尺寸:\n",
    "        stage 0: 32x32, 16\n",
    "        stage 1: 16x16, 32\n",
    "        stage 2:  8x8,  64\n",
    "        参数数量与 [a] 中表 6 接近:\n",
    "        ResNet20 0.27M\n",
    "        ResNet32 0.46M\n",
    "        ResNet44 0.66M\n",
    "        ResNet56 0.85M\n",
    "        ResNet110 1.7M\n",
    "\n",
    "        # 参数\n",
    "            input_shape (tensor): 输入图像张量的尺寸\n",
    "            depth (int): 核心卷积层的数量\n",
    "            num_classes (int): 类别数 (CIFAR10 为 10)\n",
    "\n",
    "        # 返回\n",
    "            model (Model): Keras 模型实例\n",
    "        \"\"\"\n",
    "        if (depth - 2) % 6 != 0:\n",
    "            raise ValueError('depth should be 6n+2 (eg 20, 32, 44 in [a])')\n",
    "        # 开始模型定义\n",
    "        num_filters = 16\n",
    "        num_res_blocks = int((depth - 2) / 6)\n",
    "\n",
    "        inputs = Input(shape=input_shape)\n",
    "        x = resnet_layer(inputs=inputs)\n",
    "        # 实例化残差单元的堆栈\n",
    "        for stack in range(3):\n",
    "            for res_block in range(num_res_blocks):\n",
    "                strides = 1\n",
    "                if stack > 0 and res_block == 0:  # 第一层但不是第一个栈\n",
    "                    strides = 2  # downsample\n",
    "                y = resnet_layer(inputs=x,\n",
    "                                 num_filters=num_filters,\n",
    "                                 strides=strides)\n",
    "                y = resnet_layer(inputs=y,\n",
    "                                 num_filters=num_filters,\n",
    "                                 activation=None)\n",
    "                if stack > 0 and res_block == 0:  # first layer but not first stack\n",
    "                    # 线性投影残差快捷键连接，以匹配更改的 dims\n",
    "                    x = resnet_layer(inputs=x,\n",
    "                                     num_filters=num_filters,\n",
    "                                     kernel_size=1,\n",
    "                                     strides=strides,\n",
    "                                     activation=None,\n",
    "                                     batch_normalization=False)\n",
    "                x = keras.layers.add([x, y])\n",
    "                x = Activation('relu')(x)\n",
    "            num_filters *= 2\n",
    "\n",
    "        # 在顶层加分类器。\n",
    "        # v1 不在最后一个快捷连接 ReLU 后使用 BN\n",
    "        x = AveragePooling2D(pool_size=Pool_size)(x) # 7\n",
    "        y = Flatten()(x)\n",
    "        outputs = Dense(num_classes,\n",
    "                        activation='softmax',\n",
    "                        kernel_initializer='he_normal')(y)\n",
    "\n",
    "        # 实例化模型。\n",
    "        model = Model(inputs=inputs, outputs=outputs)\n",
    "        return model\n",
    "\n",
    "    def resnet_v2(input_shape, depth, num_classes=10):\n",
    "        \"\"\"ResNet 版本 2 模型构建器 [b]\n",
    "\n",
    "        (1 x 1)-(3 x 3)-(1 x 1) BN-ReLU-Conv2D 的堆栈，也被称为瓶颈层。\n",
    "        每一层的第一个快捷连接是一个 1 x 1 Conv2D。\n",
    "        第二个及以后的快捷连接是 identity。\n",
    "        在每个阶段的开始，特征图大小由具有 strides=2 的卷积层减半（下采样），\n",
    "        而滤波器的数量加倍。在每个阶段中，这些层具有相同数量的过滤器和相同的特征图尺寸。\n",
    "        特征图尺寸:\n",
    "        conv1  : 32x32,  16\n",
    "        stage 0: 32x32,  64\n",
    "        stage 1: 16x16, 128\n",
    "        stage 2:  8x8,  256\n",
    "\n",
    "        # 参数\n",
    "            input_shape (tensor): 输入图像张量的尺寸\n",
    "            depth (int): 核心卷积层的数量\n",
    "            num_classes (int): 类别数 (CIFAR10 为 10)\n",
    "\n",
    "        # 返回\n",
    "            model (Model): Keras 模型实例\n",
    "        \"\"\"\n",
    "        if (depth - 2) % 9 != 0:\n",
    "            raise ValueError('depth should be 9n+2 (eg 56 or 110 in [b])')\n",
    "        # 开始模型定义。\n",
    "        num_filters_in = 16\n",
    "        num_res_blocks = int((depth - 2) / 9)\n",
    "\n",
    "        inputs = Input(shape=input_shape)\n",
    "        # v2 在将输入分离为两个路径前执行带 BN-ReLU 的 Conv2D 操作。\n",
    "        x = resnet_layer(inputs=inputs,\n",
    "                         num_filters=num_filters_in,\n",
    "                         conv_first=True)\n",
    "\n",
    "        # 实例化残差单元的栈\n",
    "        for stage in range(3):\n",
    "            for res_block in range(num_res_blocks):\n",
    "                activation = 'relu'\n",
    "                batch_normalization = True\n",
    "                strides = 1\n",
    "                if stage == 0:\n",
    "                    num_filters_out = num_filters_in * 4\n",
    "                    if res_block == 0:  # first layer and first stage\n",
    "                        activation = None\n",
    "                        batch_normalization = False\n",
    "                else:\n",
    "                    num_filters_out = num_filters_in * 2\n",
    "                    if res_block == 0:  # first layer but not first stage\n",
    "                        strides = 2    # downsample\n",
    "\n",
    "                # 瓶颈残差单元\n",
    "                y = resnet_layer(inputs=x,\n",
    "                                 num_filters=num_filters_in,\n",
    "                                 kernel_size=1,\n",
    "                                 strides=strides,\n",
    "                                 activation=activation,\n",
    "                                 batch_normalization=batch_normalization,\n",
    "                                 conv_first=False)\n",
    "                y = resnet_layer(inputs=y,\n",
    "                                 num_filters=num_filters_in,\n",
    "                                 conv_first=False)\n",
    "                y = resnet_layer(inputs=y,\n",
    "                                 num_filters=num_filters_out,\n",
    "                                 kernel_size=1,\n",
    "                                 conv_first=False)\n",
    "                if res_block == 0:\n",
    "                    # 线性投影残差快捷键连接，以匹配更改的 dims\n",
    "                    x = resnet_layer(inputs=x,\n",
    "                                     num_filters=num_filters_out,\n",
    "                                     kernel_size=1,\n",
    "                                     strides=strides,\n",
    "                                     activation=None,\n",
    "                                     batch_normalization=False)\n",
    "                x = keras.layers.add([x, y])\n",
    "\n",
    "            num_filters_in = num_filters_out\n",
    "\n",
    "        # 在顶层添加分类器\n",
    "        # v2 has BN-ReLU before Pooling\n",
    "        x = BatchNormalization()(x)\n",
    "        x = Activation('relu')(x)\n",
    "        x = AveragePooling2D(pool_size=Pool_size)(x) # 7\n",
    "        y = Flatten()(x)\n",
    "        outputs = Dense(num_classes,\n",
    "                        activation='softmax',\n",
    "                        kernel_initializer='he_normal')(y)\n",
    "\n",
    "        # 实例化模型。\n",
    "        model = Model(inputs=inputs, outputs=outputs)\n",
    "        return model \n",
    "\n",
    "    \n",
    "    if Mode == 5 : # ResNet v1  \n",
    "        depth = n * 6 + 2\n",
    "        model = resnet_v1(input_shape=input_shape, depth=depth)\n",
    "\n",
    "    elif Mode == 6 : # ResNet v2  \n",
    "        depth = n * 9 + 2\n",
    "        model = resnet_v2(input_shape=input_shape, depth=depth)\n",
    "    \n",
    "    \n",
    "print(model.summary())\n",
    "\n",
    "# Setting for training\n",
    "model.compile(loss=losses.categorical_crossentropy, # loss function : sparse_categorical_crossentropy / categorical_crossentropy / binary_crossentropy\n",
    "              optimizer='adam', # 'adam' optimizers.SGD()\n",
    "              metrics=['categorical_accuracy'] # accuracy categorical_accuracy\n",
    "              )"
   ]
  },
  {
   "cell_type": "markdown",
   "metadata": {
    "id": "vtOqbCgkd9PZ"
   },
   "source": [
    "## 資料增強（Data Augmentation）"
   ]
  },
  {
   "cell_type": "code",
   "execution_count": 50,
   "metadata": {},
   "outputs": [],
   "source": [
    "if ImageDataGenerator_threshold :\n",
    "\n",
    "    datagen = ImageDataGenerator(\n",
    "            featurewise_center=False,  # 將整個數據集的均值設為0\n",
    "            samplewise_center=False,  # 將每個樣本的均值設為0\n",
    "            featurewise_std_normalization=False,  # 將輸入除以整個數據集的標準差\n",
    "            samplewise_std_normalization=False,  # 將輸入除以其標準差\n",
    "            zca_whitening=False,  # 運用 ZCA 白化\n",
    "            zca_epsilon=1e-06,  # ZCA 白化的 epsilon值\n",
    "            rotation_range=0,  # 隨機旋轉圖像範圍 (角度, 0 to 180)\n",
    "            # 隨機水平移動圖像 (總寬度的百分比)\n",
    "            width_shift_range=0.1,\n",
    "            # 隨機垂直移動圖像 (總高度的百分比)\n",
    "            height_shift_range=0.1,\n",
    "            shear_range=0.,  # 設置隨機裁剪範圍\n",
    "            zoom_range=0.,  # 設置隨機放大範圍\n",
    "            channel_shift_range=0.,  # 設置隨機通道切換的範圍\n",
    "            # 設置填充輸入邊界之外的點的模式\n",
    "            fill_mode='nearest',\n",
    "            cval=0.,  # 在 fill_mode = \"constant\" 時使用的值\n",
    "            horizontal_flip=True,  # 隨機水平翻轉圖像\n",
    "            vertical_flip=False,  # 隨機垂直翻轉圖像\n",
    "            # 設置縮放因子 (在其他轉換之前使用)\n",
    "            rescale=None,\n",
    "            # 設置將應用於每一個輸入的函數\n",
    "            preprocessing_function=None,\n",
    "            # 圖像數據格式，\"channels_first\" 或 \"channels_last\" 之一\n",
    "            data_format=None,\n",
    "            # 保留用於驗證的圖像比例（嚴格在0和1之間）\n",
    "            validation_split=0.0)\n",
    "    \n",
    "    # 計算特徵標準化所需的計算量\n",
    "    # (如果應用 ZCA 白化，則為 std，mean和主成分).\n",
    "    datagen.fit(x_Train)"
   ]
  },
  {
   "cell_type": "markdown",
   "metadata": {
    "id": "vtOqbCgkd9PZ"
   },
   "source": [
    "## Training"
   ]
  },
  {
   "cell_type": "code",
   "execution_count": 20,
   "metadata": {},
   "outputs": [
    {
     "name": "stdout",
     "output_type": "stream",
     "text": [
      "WARNING:tensorflow:`period` argument is deprecated. Please use `save_freq` to specify the frequency in number of samples seen.\n"
     ]
    }
   ],
   "source": [
    "# 定義 ModelCheckpoint callback\n",
    "checkpoint = ModelCheckpoint(filepath, monitor='val_categorical_accuracy', verbose=1, save_best_only=True, save_weights_only=False, mode='auto', period=1)\n",
    "callbacks_list = [checkpoint]"
   ]
  },
  {
   "cell_type": "code",
   "execution_count": 21,
   "metadata": {},
   "outputs": [
    {
     "name": "stdout",
     "output_type": "stream",
     "text": [
      "Train on 48000 samples, validate on 12000 samples\n",
      "Epoch 1/60\n",
      "47872/48000 [============================>.] - ETA: 0s - loss: 0.1852 - categorical_accuracy: 0.9406\n",
      "Epoch 00001: val_categorical_accuracy improved from -inf to 0.98433, saving model to D:/Record/AI_技術/電腦視覺/醫學影像分析/【基礎班】L2課程檔案/HW_mnist/weights-improvement_mode4.hdf5\n",
      "48000/48000 [==============================] - 130s 3ms/sample - loss: 0.1849 - categorical_accuracy: 0.9407 - val_loss: 0.0556 - val_categorical_accuracy: 0.9843\n",
      "Epoch 2/60\n",
      "47872/48000 [============================>.] - ETA: 0s - loss: 0.0438 - categorical_accuracy: 0.9868\n",
      "Epoch 00002: val_categorical_accuracy improved from 0.98433 to 0.98567, saving model to D:/Record/AI_技術/電腦視覺/醫學影像分析/【基礎班】L2課程檔案/HW_mnist/weights-improvement_mode4.hdf5\n",
      "48000/48000 [==============================] - 130s 3ms/sample - loss: 0.0437 - categorical_accuracy: 0.9868 - val_loss: 0.0470 - val_categorical_accuracy: 0.9857\n",
      "Epoch 3/60\n",
      "47872/48000 [============================>.] - ETA: 0s - loss: 0.0319 - categorical_accuracy: 0.9899\n",
      "Epoch 00003: val_categorical_accuracy improved from 0.98567 to 0.98692, saving model to D:/Record/AI_技術/電腦視覺/醫學影像分析/【基礎班】L2課程檔案/HW_mnist/weights-improvement_mode4.hdf5\n",
      "48000/48000 [==============================] - 131s 3ms/sample - loss: 0.0319 - categorical_accuracy: 0.9899 - val_loss: 0.0441 - val_categorical_accuracy: 0.9869\n",
      "Epoch 4/60\n",
      "47872/48000 [============================>.] - ETA: 0s - loss: 0.0242 - categorical_accuracy: 0.9925\n",
      "Epoch 00004: val_categorical_accuracy improved from 0.98692 to 0.99050, saving model to D:/Record/AI_技術/電腦視覺/醫學影像分析/【基礎班】L2課程檔案/HW_mnist/weights-improvement_mode4.hdf5\n",
      "48000/48000 [==============================] - 127s 3ms/sample - loss: 0.0242 - categorical_accuracy: 0.9925 - val_loss: 0.0316 - val_categorical_accuracy: 0.9905\n",
      "Epoch 5/60\n",
      "47872/48000 [============================>.] - ETA: 0s - loss: 0.0189 - categorical_accuracy: 0.9943\n",
      "Epoch 00005: val_categorical_accuracy did not improve from 0.99050\n",
      "48000/48000 [==============================] - 131s 3ms/sample - loss: 0.0189 - categorical_accuracy: 0.9943 - val_loss: 0.0354 - val_categorical_accuracy: 0.9898\n",
      "Epoch 6/60\n",
      "47872/48000 [============================>.] - ETA: 0s - loss: 0.0171 - categorical_accuracy: 0.9949\n",
      "Epoch 00006: val_categorical_accuracy did not improve from 0.99050\n",
      "48000/48000 [==============================] - 127s 3ms/sample - loss: 0.0172 - categorical_accuracy: 0.9949 - val_loss: 0.0416 - val_categorical_accuracy: 0.9889\n",
      "Epoch 7/60\n",
      "47872/48000 [============================>.] - ETA: 0s - loss: 0.0176 - categorical_accuracy: 0.9945\n",
      "Epoch 00007: val_categorical_accuracy did not improve from 0.99050\n",
      "48000/48000 [==============================] - 127s 3ms/sample - loss: 0.0176 - categorical_accuracy: 0.9945 - val_loss: 0.0426 - val_categorical_accuracy: 0.9885\n",
      "Epoch 8/60\n",
      "47872/48000 [============================>.] - ETA: 0s - loss: 0.0153 - categorical_accuracy: 0.9953\n",
      "Epoch 00008: val_categorical_accuracy did not improve from 0.99050\n",
      "48000/48000 [==============================] - 128s 3ms/sample - loss: 0.0152 - categorical_accuracy: 0.9954 - val_loss: 0.0428 - val_categorical_accuracy: 0.9893\n",
      "Epoch 9/60\n",
      "47872/48000 [============================>.] - ETA: 0s - loss: 0.0119 - categorical_accuracy: 0.9966\n",
      "Epoch 00009: val_categorical_accuracy improved from 0.99050 to 0.99092, saving model to D:/Record/AI_技術/電腦視覺/醫學影像分析/【基礎班】L2課程檔案/HW_mnist/weights-improvement_mode4.hdf5\n",
      "48000/48000 [==============================] - 127s 3ms/sample - loss: 0.0119 - categorical_accuracy: 0.9966 - val_loss: 0.0348 - val_categorical_accuracy: 0.9909\n",
      "Epoch 10/60\n",
      "47872/48000 [============================>.] - ETA: 0s - loss: 0.0094 - categorical_accuracy: 0.9970\n",
      "Epoch 00010: val_categorical_accuracy did not improve from 0.99092\n",
      "48000/48000 [==============================] - 127s 3ms/sample - loss: 0.0093 - categorical_accuracy: 0.9970 - val_loss: 0.0391 - val_categorical_accuracy: 0.9904\n",
      "Epoch 11/60\n",
      "47872/48000 [============================>.] - ETA: 0s - loss: 0.0100 - categorical_accuracy: 0.9968\n",
      "Epoch 00011: val_categorical_accuracy did not improve from 0.99092\n",
      "48000/48000 [==============================] - 128s 3ms/sample - loss: 0.0101 - categorical_accuracy: 0.9968 - val_loss: 0.0482 - val_categorical_accuracy: 0.9890\n",
      "Epoch 12/60\n",
      "47872/48000 [============================>.] - ETA: 0s - loss: 0.0108 - categorical_accuracy: 0.9965\n",
      "Epoch 00012: val_categorical_accuracy did not improve from 0.99092\n",
      "48000/48000 [==============================] - 128s 3ms/sample - loss: 0.0108 - categorical_accuracy: 0.9965 - val_loss: 0.0464 - val_categorical_accuracy: 0.9891\n",
      "Epoch 13/60\n",
      "47872/48000 [============================>.] - ETA: 0s - loss: 0.0092 - categorical_accuracy: 0.9970\n",
      "Epoch 00013: val_categorical_accuracy did not improve from 0.99092\n",
      "48000/48000 [==============================] - 127s 3ms/sample - loss: 0.0092 - categorical_accuracy: 0.9970 - val_loss: 0.0378 - val_categorical_accuracy: 0.9908\n",
      "Epoch 14/60\n",
      "47872/48000 [============================>.] - ETA: 0s - loss: 0.0070 - categorical_accuracy: 0.9979\n",
      "Epoch 00014: val_categorical_accuracy did not improve from 0.99092\n",
      "48000/48000 [==============================] - 127s 3ms/sample - loss: 0.0070 - categorical_accuracy: 0.9979 - val_loss: 0.0427 - val_categorical_accuracy: 0.9904\n",
      "Epoch 15/60\n",
      "47872/48000 [============================>.] - ETA: 0s - loss: 0.0119 - categorical_accuracy: 0.9962\n",
      "Epoch 00015: val_categorical_accuracy improved from 0.99092 to 0.99150, saving model to D:/Record/AI_技術/電腦視覺/醫學影像分析/【基礎班】L2課程檔案/HW_mnist/weights-improvement_mode4.hdf5\n",
      "48000/48000 [==============================] - 127s 3ms/sample - loss: 0.0119 - categorical_accuracy: 0.9962 - val_loss: 0.0397 - val_categorical_accuracy: 0.9915\n",
      "Epoch 16/60\n",
      "47872/48000 [============================>.] - ETA: 0s - loss: 0.0072 - categorical_accuracy: 0.9977\n",
      "Epoch 00016: val_categorical_accuracy improved from 0.99150 to 0.99167, saving model to D:/Record/AI_技術/電腦視覺/醫學影像分析/【基礎班】L2課程檔案/HW_mnist/weights-improvement_mode4.hdf5\n",
      "48000/48000 [==============================] - 127s 3ms/sample - loss: 0.0072 - categorical_accuracy: 0.9977 - val_loss: 0.0404 - val_categorical_accuracy: 0.9917\n",
      "Epoch 17/60\n",
      "47872/48000 [============================>.] - ETA: 0s - loss: 0.0085 - categorical_accuracy: 0.9973\n",
      "Epoch 00017: val_categorical_accuracy did not improve from 0.99167\n",
      "48000/48000 [==============================] - 127s 3ms/sample - loss: 0.0085 - categorical_accuracy: 0.9973 - val_loss: 0.0405 - val_categorical_accuracy: 0.9914\n",
      "Epoch 18/60\n",
      "47872/48000 [============================>.] - ETA: 0s - loss: 0.0054 - categorical_accuracy: 0.9981\n",
      "Epoch 00018: val_categorical_accuracy did not improve from 0.99167\n",
      "48000/48000 [==============================] - 129s 3ms/sample - loss: 0.0054 - categorical_accuracy: 0.9981 - val_loss: 0.0407 - val_categorical_accuracy: 0.9904\n",
      "Epoch 19/60\n",
      "47872/48000 [============================>.] - ETA: 0s - loss: 0.0067 - categorical_accuracy: 0.9980\n",
      "Epoch 00019: val_categorical_accuracy did not improve from 0.99167\n",
      "48000/48000 [==============================] - 129s 3ms/sample - loss: 0.0067 - categorical_accuracy: 0.9980 - val_loss: 0.0453 - val_categorical_accuracy: 0.9904\n",
      "Epoch 20/60\n",
      "47872/48000 [============================>.] - ETA: 0s - loss: 0.0054 - categorical_accuracy: 0.9984\n",
      "Epoch 00020: val_categorical_accuracy did not improve from 0.99167\n",
      "48000/48000 [==============================] - 128s 3ms/sample - loss: 0.0054 - categorical_accuracy: 0.9984 - val_loss: 0.0470 - val_categorical_accuracy: 0.9886\n",
      "Epoch 21/60\n",
      "47872/48000 [============================>.] - ETA: 0s - loss: 0.0047 - categorical_accuracy: 0.9985\n",
      "Epoch 00021: val_categorical_accuracy did not improve from 0.99167\n",
      "48000/48000 [==============================] - 127s 3ms/sample - loss: 0.0047 - categorical_accuracy: 0.9985 - val_loss: 0.0555 - val_categorical_accuracy: 0.9907\n",
      "Epoch 22/60\n",
      "47872/48000 [============================>.] - ETA: 0s - loss: 0.0070 - categorical_accuracy: 0.9980\n",
      "Epoch 00022: val_categorical_accuracy improved from 0.99167 to 0.99308, saving model to D:/Record/AI_技術/電腦視覺/醫學影像分析/【基礎班】L2課程檔案/HW_mnist/weights-improvement_mode4.hdf5\n",
      "48000/48000 [==============================] - 130s 3ms/sample - loss: 0.0070 - categorical_accuracy: 0.9980 - val_loss: 0.0375 - val_categorical_accuracy: 0.9931\n",
      "Epoch 23/60\n",
      "47872/48000 [============================>.] - ETA: 0s - loss: 0.0061 - categorical_accuracy: 0.9982\n",
      "Epoch 00023: val_categorical_accuracy did not improve from 0.99308\n",
      "48000/48000 [==============================] - 127s 3ms/sample - loss: 0.0061 - categorical_accuracy: 0.9982 - val_loss: 0.0449 - val_categorical_accuracy: 0.9915\n",
      "Epoch 24/60\n",
      "47872/48000 [============================>.] - ETA: 0s - loss: 0.0081 - categorical_accuracy: 0.9978\n",
      "Epoch 00024: val_categorical_accuracy did not improve from 0.99308\n",
      "48000/48000 [==============================] - 127s 3ms/sample - loss: 0.0080 - categorical_accuracy: 0.9979 - val_loss: 0.0403 - val_categorical_accuracy: 0.9907\n",
      "Epoch 25/60\n",
      "47872/48000 [============================>.] - ETA: 0s - loss: 0.0042 - categorical_accuracy: 0.9988\n",
      "Epoch 00025: val_categorical_accuracy did not improve from 0.99308\n",
      "48000/48000 [==============================] - 127s 3ms/sample - loss: 0.0042 - categorical_accuracy: 0.9988 - val_loss: 0.0518 - val_categorical_accuracy: 0.9911\n",
      "Epoch 26/60\n",
      "47872/48000 [============================>.] - ETA: 0s - loss: 0.0054 - categorical_accuracy: 0.9984\n",
      "Epoch 00026: val_categorical_accuracy did not improve from 0.99308\n",
      "48000/48000 [==============================] - 133s 3ms/sample - loss: 0.0054 - categorical_accuracy: 0.9984 - val_loss: 0.0508 - val_categorical_accuracy: 0.9902\n",
      "Epoch 27/60\n",
      "47872/48000 [============================>.] - ETA: 0s - loss: 0.0045 - categorical_accuracy: 0.9987\n",
      "Epoch 00027: val_categorical_accuracy did not improve from 0.99308\n",
      "48000/48000 [==============================] - 129s 3ms/sample - loss: 0.0045 - categorical_accuracy: 0.9987 - val_loss: 0.0469 - val_categorical_accuracy: 0.9914\n",
      "Epoch 28/60\n",
      "47872/48000 [============================>.] - ETA: 0s - loss: 0.0012 - categorical_accuracy: 0.9998\n",
      "Epoch 00028: val_categorical_accuracy did not improve from 0.99308\n",
      "48000/48000 [==============================] - 132s 3ms/sample - loss: 0.0012 - categorical_accuracy: 0.9998 - val_loss: 0.0682 - val_categorical_accuracy: 0.9905\n",
      "Epoch 29/60\n",
      "47872/48000 [============================>.] - ETA: 0s - loss: 0.0080 - categorical_accuracy: 0.9978\n",
      "Epoch 00029: val_categorical_accuracy did not improve from 0.99308\n",
      "48000/48000 [==============================] - 127s 3ms/sample - loss: 0.0080 - categorical_accuracy: 0.9978 - val_loss: 0.0448 - val_categorical_accuracy: 0.9915\n",
      "Epoch 30/60\n",
      "47872/48000 [============================>.] - ETA: 0s - loss: 0.0045 - categorical_accuracy: 0.9988\n",
      "Epoch 00030: val_categorical_accuracy did not improve from 0.99308\n",
      "48000/48000 [==============================] - 126s 3ms/sample - loss: 0.0044 - categorical_accuracy: 0.9988 - val_loss: 0.0500 - val_categorical_accuracy: 0.9916\n",
      "Epoch 31/60\n",
      "47872/48000 [============================>.] - ETA: 0s - loss: 0.0039 - categorical_accuracy: 0.9990\n",
      "Epoch 00031: val_categorical_accuracy did not improve from 0.99308\n",
      "48000/48000 [==============================] - 127s 3ms/sample - loss: 0.0039 - categorical_accuracy: 0.9990 - val_loss: 0.0579 - val_categorical_accuracy: 0.9917\n",
      "Epoch 32/60\n",
      "47872/48000 [============================>.] - ETA: 0s - loss: 0.0063 - categorical_accuracy: 0.9980\n",
      "Epoch 00032: val_categorical_accuracy did not improve from 0.99308\n",
      "48000/48000 [==============================] - 127s 3ms/sample - loss: 0.0063 - categorical_accuracy: 0.9980 - val_loss: 0.0508 - val_categorical_accuracy: 0.9927\n",
      "Epoch 33/60\n",
      "47872/48000 [============================>.] - ETA: 0s - loss: 0.0040 - categorical_accuracy: 0.9989\n",
      "Epoch 00033: val_categorical_accuracy did not improve from 0.99308\n",
      "48000/48000 [==============================] - 127s 3ms/sample - loss: 0.0040 - categorical_accuracy: 0.9989 - val_loss: 0.0684 - val_categorical_accuracy: 0.9912\n",
      "Epoch 34/60\n",
      "47872/48000 [============================>.] - ETA: 0s - loss: 0.0060 - categorical_accuracy: 0.9984\n",
      "Epoch 00034: val_categorical_accuracy did not improve from 0.99308\n",
      "48000/48000 [==============================] - 129s 3ms/sample - loss: 0.0060 - categorical_accuracy: 0.9984 - val_loss: 0.0454 - val_categorical_accuracy: 0.9929\n",
      "Epoch 35/60\n",
      "47872/48000 [============================>.] - ETA: 0s - loss: 0.0053 - categorical_accuracy: 0.9983\n",
      "Epoch 00035: val_categorical_accuracy did not improve from 0.99308\n",
      "48000/48000 [==============================] - 127s 3ms/sample - loss: 0.0053 - categorical_accuracy: 0.9983 - val_loss: 0.0570 - val_categorical_accuracy: 0.9928\n",
      "Epoch 36/60\n",
      "47872/48000 [============================>.] - ETA: 0s - loss: 0.0032 - categorical_accuracy: 0.9991\n",
      "Epoch 00036: val_categorical_accuracy did not improve from 0.99308\n",
      "48000/48000 [==============================] - 127s 3ms/sample - loss: 0.0032 - categorical_accuracy: 0.9991 - val_loss: 0.0545 - val_categorical_accuracy: 0.9923\n",
      "Epoch 37/60\n",
      "47872/48000 [============================>.] - ETA: 0s - loss: 0.0041 - categorical_accuracy: 0.9988\n",
      "Epoch 00037: val_categorical_accuracy did not improve from 0.99308\n",
      "48000/48000 [==============================] - 127s 3ms/sample - loss: 0.0041 - categorical_accuracy: 0.9988 - val_loss: 0.0556 - val_categorical_accuracy: 0.9929\n",
      "Epoch 38/60\n",
      "47872/48000 [============================>.] - ETA: 0s - loss: 0.0045 - categorical_accuracy: 0.9991\n",
      "Epoch 00038: val_categorical_accuracy did not improve from 0.99308\n",
      "48000/48000 [==============================] - 128s 3ms/sample - loss: 0.0045 - categorical_accuracy: 0.9991 - val_loss: 0.0625 - val_categorical_accuracy: 0.9899\n",
      "Epoch 39/60\n",
      "47872/48000 [============================>.] - ETA: 0s - loss: 0.0032 - categorical_accuracy: 0.9991\n",
      "Epoch 00039: val_categorical_accuracy did not improve from 0.99308\n",
      "48000/48000 [==============================] - 126s 3ms/sample - loss: 0.0032 - categorical_accuracy: 0.9991 - val_loss: 0.0562 - val_categorical_accuracy: 0.9918\n",
      "Epoch 40/60\n",
      "47872/48000 [============================>.] - ETA: 0s - loss: 0.0019 - categorical_accuracy: 0.9995\n",
      "Epoch 00040: val_categorical_accuracy did not improve from 0.99308\n",
      "48000/48000 [==============================] - 127s 3ms/sample - loss: 0.0019 - categorical_accuracy: 0.9995 - val_loss: 0.0601 - val_categorical_accuracy: 0.9918\n",
      "Epoch 41/60\n",
      "47872/48000 [============================>.] - ETA: 0s - loss: 0.0071 - categorical_accuracy: 0.9982\n",
      "Epoch 00041: val_categorical_accuracy did not improve from 0.99308\n",
      "48000/48000 [==============================] - 127s 3ms/sample - loss: 0.0071 - categorical_accuracy: 0.9983 - val_loss: 0.0716 - val_categorical_accuracy: 0.9906\n",
      "Epoch 42/60\n",
      "47872/48000 [============================>.] - ETA: 0s - loss: 0.0073 - categorical_accuracy: 0.9981\n",
      "Epoch 00042: val_categorical_accuracy did not improve from 0.99308\n",
      "48000/48000 [==============================] - 128s 3ms/sample - loss: 0.0072 - categorical_accuracy: 0.9981 - val_loss: 0.0532 - val_categorical_accuracy: 0.9915\n",
      "Epoch 43/60\n",
      "47872/48000 [============================>.] - ETA: 0s - loss: 0.0027 - categorical_accuracy: 0.9991\n",
      "Epoch 00043: val_categorical_accuracy did not improve from 0.99308\n",
      "48000/48000 [==============================] - 128s 3ms/sample - loss: 0.0027 - categorical_accuracy: 0.9991 - val_loss: 0.0607 - val_categorical_accuracy: 0.9925\n",
      "Epoch 44/60\n",
      "47872/48000 [============================>.] - ETA: 0s - loss: 0.0040 - categorical_accuracy: 0.9989\n",
      "Epoch 00044: val_categorical_accuracy did not improve from 0.99308\n",
      "48000/48000 [==============================] - 127s 3ms/sample - loss: 0.0040 - categorical_accuracy: 0.9989 - val_loss: 0.0621 - val_categorical_accuracy: 0.9917\n",
      "Epoch 45/60\n",
      "47872/48000 [============================>.] - ETA: 0s - loss: 0.0030 - categorical_accuracy: 0.9992\n",
      "Epoch 00045: val_categorical_accuracy did not improve from 0.99308\n",
      "48000/48000 [==============================] - 127s 3ms/sample - loss: 0.0029 - categorical_accuracy: 0.9992 - val_loss: 0.0775 - val_categorical_accuracy: 0.9908\n",
      "Epoch 46/60\n",
      "47872/48000 [============================>.] - ETA: 0s - loss: 0.0055 - categorical_accuracy: 0.9987\n",
      "Epoch 00046: val_categorical_accuracy did not improve from 0.99308\n",
      "48000/48000 [==============================] - 126s 3ms/sample - loss: 0.0055 - categorical_accuracy: 0.9987 - val_loss: 0.0653 - val_categorical_accuracy: 0.9901\n",
      "Epoch 47/60\n",
      "47872/48000 [============================>.] - ETA: 0s - loss: 0.0043 - categorical_accuracy: 0.9989\n",
      "Epoch 00047: val_categorical_accuracy did not improve from 0.99308\n",
      "48000/48000 [==============================] - 126s 3ms/sample - loss: 0.0043 - categorical_accuracy: 0.9989 - val_loss: 0.0479 - val_categorical_accuracy: 0.9920\n",
      "Epoch 48/60\n",
      "47872/48000 [============================>.] - ETA: 0s - loss: 0.0011 - categorical_accuracy: 0.9996\n",
      "Epoch 00048: val_categorical_accuracy did not improve from 0.99308\n",
      "48000/48000 [==============================] - 127s 3ms/sample - loss: 0.0011 - categorical_accuracy: 0.9996 - val_loss: 0.0572 - val_categorical_accuracy: 0.9928\n",
      "Epoch 49/60\n",
      "47872/48000 [============================>.] - ETA: 0s - loss: 0.0038 - categorical_accuracy: 0.9992\n",
      "Epoch 00049: val_categorical_accuracy did not improve from 0.99308\n",
      "48000/48000 [==============================] - 129s 3ms/sample - loss: 0.0038 - categorical_accuracy: 0.9992 - val_loss: 0.0559 - val_categorical_accuracy: 0.9916\n",
      "Epoch 50/60\n",
      "47872/48000 [============================>.] - ETA: 0s - loss: 0.0045 - categorical_accuracy: 0.9988\n",
      "Epoch 00050: val_categorical_accuracy did not improve from 0.99308\n",
      "48000/48000 [==============================] - 129s 3ms/sample - loss: 0.0045 - categorical_accuracy: 0.9988 - val_loss: 0.0579 - val_categorical_accuracy: 0.9920\n",
      "Epoch 51/60\n",
      "47872/48000 [============================>.] - ETA: 0s - loss: 0.0027 - categorical_accuracy: 0.9992\n",
      "Epoch 00051: val_categorical_accuracy did not improve from 0.99308\n",
      "48000/48000 [==============================] - 128s 3ms/sample - loss: 0.0029 - categorical_accuracy: 0.9992 - val_loss: 0.0759 - val_categorical_accuracy: 0.9905\n",
      "Epoch 52/60\n",
      "47872/48000 [============================>.] - ETA: 0s - loss: 0.0064 - categorical_accuracy: 0.9984\n",
      "Epoch 00052: val_categorical_accuracy did not improve from 0.99308\n",
      "48000/48000 [==============================] - 126s 3ms/sample - loss: 0.0064 - categorical_accuracy: 0.9984 - val_loss: 0.0661 - val_categorical_accuracy: 0.9913\n",
      "Epoch 53/60\n",
      "47872/48000 [============================>.] - ETA: 0s - loss: 0.0045 - categorical_accuracy: 0.9990\n",
      "Epoch 00053: val_categorical_accuracy did not improve from 0.99308\n",
      "48000/48000 [==============================] - 126s 3ms/sample - loss: 0.0045 - categorical_accuracy: 0.9990 - val_loss: 0.0574 - val_categorical_accuracy: 0.9915\n",
      "Epoch 54/60\n",
      "47872/48000 [============================>.] - ETA: 0s - loss: 0.0039 - categorical_accuracy: 0.9991\n",
      "Epoch 00054: val_categorical_accuracy did not improve from 0.99308\n",
      "48000/48000 [==============================] - 126s 3ms/sample - loss: 0.0039 - categorical_accuracy: 0.9991 - val_loss: 0.0644 - val_categorical_accuracy: 0.9922\n",
      "Epoch 55/60\n",
      "47872/48000 [============================>.] - ETA: 0s - loss: 0.0057 - categorical_accuracy: 0.9989\n",
      "Epoch 00055: val_categorical_accuracy did not improve from 0.99308\n",
      "48000/48000 [==============================] - 126s 3ms/sample - loss: 0.0056 - categorical_accuracy: 0.9989 - val_loss: 0.0555 - val_categorical_accuracy: 0.9918\n",
      "Epoch 56/60\n",
      "47872/48000 [============================>.] - ETA: 0s - loss: 0.0031 - categorical_accuracy: 0.9992\n",
      "Epoch 00056: val_categorical_accuracy did not improve from 0.99308\n",
      "48000/48000 [==============================] - 129s 3ms/sample - loss: 0.0031 - categorical_accuracy: 0.9992 - val_loss: 0.0539 - val_categorical_accuracy: 0.9919\n",
      "Epoch 57/60\n",
      "47872/48000 [============================>.] - ETA: 0s - loss: 0.0041 - categorical_accuracy: 0.9992\n",
      "Epoch 00057: val_categorical_accuracy did not improve from 0.99308\n",
      "48000/48000 [==============================] - 128s 3ms/sample - loss: 0.0041 - categorical_accuracy: 0.9992 - val_loss: 0.0659 - val_categorical_accuracy: 0.9929\n",
      "Epoch 58/60\n",
      "47872/48000 [============================>.] - ETA: 0s - loss: 0.0050 - categorical_accuracy: 0.9990\n",
      "Epoch 00058: val_categorical_accuracy improved from 0.99308 to 0.99333, saving model to D:/Record/AI_技術/電腦視覺/醫學影像分析/【基礎班】L2課程檔案/HW_mnist/weights-improvement_mode4.hdf5\n",
      "48000/48000 [==============================] - 126s 3ms/sample - loss: 0.0050 - categorical_accuracy: 0.9990 - val_loss: 0.0581 - val_categorical_accuracy: 0.9933\n",
      "Epoch 59/60\n",
      "47872/48000 [============================>.] - ETA: 0s - loss: 0.0019 - categorical_accuracy: 0.9995\n",
      "Epoch 00059: val_categorical_accuracy improved from 0.99333 to 0.99350, saving model to D:/Record/AI_技術/電腦視覺/醫學影像分析/【基礎班】L2課程檔案/HW_mnist/weights-improvement_mode4.hdf5\n",
      "48000/48000 [==============================] - 126s 3ms/sample - loss: 0.0019 - categorical_accuracy: 0.9995 - val_loss: 0.0581 - val_categorical_accuracy: 0.9935\n",
      "Epoch 60/60\n",
      "47872/48000 [============================>.] - ETA: 0s - loss: 0.0014 - categorical_accuracy: 0.9997\n",
      "Epoch 00060: val_categorical_accuracy did not improve from 0.99350\n",
      "48000/48000 [==============================] - 126s 3ms/sample - loss: 0.0014 - categorical_accuracy: 0.9997 - val_loss: 0.0545 - val_categorical_accuracy: 0.9932\n"
     ]
    }
   ],
   "source": [
    "if ver == '':\n",
    "    logs = model.fit(x_Train, y_Train_OneHot, batch_size=Batch_size, epochs=Epochs, validation_data=(x_Val, y_Val_OneHot), callbacks=callbacks_list)\n",
    "else:\n",
    "    logs = model.fit_generator(datagen.flow(x_Train, y_Train_OneHot, batch_size=Batch_size), epochs=Epochs, validation_data=(x_Val, y_Val_OneHot), callbacks=callbacks_list)"
   ]
  },
  {
   "cell_type": "markdown",
   "metadata": {
    "id": "vtOqbCgkd9PZ"
   },
   "source": [
    "## History"
   ]
  },
  {
   "cell_type": "code",
   "execution_count": 35,
   "metadata": {
    "executionInfo": {
     "elapsed": 947,
     "status": "ok",
     "timestamp": 1614932248326,
     "user": {
      "displayName": "CY Li",
      "photoUrl": "https://lh3.googleusercontent.com/a-/AOh14GhUjBR-W3fjmzlI1F96TtArIXePd_MCbM8FFhB5fbI=s64",
      "userId": "11560903483017836470"
     },
     "user_tz": -480
    },
    "id": "89NwtdhbwMp2"
   },
   "outputs": [
    {
     "name": "stdout",
     "output_type": "stream",
     "text": [
      "Best val score : 0.9935\n",
      "Best val epoch : 59\n"
     ]
    }
   ],
   "source": [
    "history = logs.history\n",
    "val_score = history['val_categorical_accuracy']\n",
    "max_val_score = max(val_score)\n",
    "max_val_epochs = val_score.index(max_val_score)+1\n",
    "print( 'Best val score : ' + str(max_val_score) )\n",
    "print( 'Best val epoch : ' + str(max_val_epochs) )"
   ]
  },
  {
   "cell_type": "code",
   "execution_count": 36,
   "metadata": {
    "colab": {
     "base_uri": "https://localhost:8080/",
     "height": 298
    },
    "executionInfo": {
     "elapsed": 775,
     "status": "ok",
     "timestamp": 1614932252720,
     "user": {
      "displayName": "CY Li",
      "photoUrl": "https://lh3.googleusercontent.com/a-/AOh14GhUjBR-W3fjmzlI1F96TtArIXePd_MCbM8FFhB5fbI=s64",
      "userId": "11560903483017836470"
     },
     "user_tz": -480
    },
    "id": "ZKDX0rwfwMp5",
    "outputId": "bd6c38fc-1067-4938-ffd2-b2b00071572b"
   },
   "outputs": [
    {
     "data": {
      "image/png": "[encoded data removed]",
      "text/plain": [
       "<Figure size 432x288 with 1 Axes>"
      ]
     },
     "metadata": {
      "needs_background": "light"
     },
     "output_type": "display_data"
    }
   ],
   "source": [
    "plt.plot(history['categorical_accuracy'])\n",
    "plt.plot(history['val_categorical_accuracy'])\n",
    "plt.legend(['categorical_accuracy', 'val_categorical_accuracy'])\n",
    "plt.title('accuracy')\n",
    "plt.savefig(ACCpng)"
   ]
  },
  {
   "cell_type": "code",
   "execution_count": 24,
   "metadata": {
    "colab": {
     "base_uri": "https://localhost:8080/",
     "height": 298
    },
    "executionInfo": {
     "elapsed": 1367,
     "status": "ok",
     "timestamp": 1614932258190,
     "user": {
      "displayName": "CY Li",
      "photoUrl": "https://lh3.googleusercontent.com/a-/AOh14GhUjBR-W3fjmzlI1F96TtArIXePd_MCbM8FFhB5fbI=s64",
      "userId": "11560903483017836470"
     },
     "user_tz": -480
    },
    "id": "jMyM477lwMp8",
    "outputId": "cd34db4f-55ad-4af8-de26-a0df5a6381bb"
   },
   "outputs": [
    {
     "data": {
      "image/png": "[encoded data removed]",
      "text/plain": [
       "<Figure size 432x288 with 1 Axes>"
      ]
     },
     "metadata": {
      "needs_background": "light"
     },
     "output_type": "display_data"
    }
   ],
   "source": [
    "plt.plot(history['loss'])\n",
    "plt.plot(history['val_loss'])\n",
    "plt.legend(['loss', 'val_loss'])\n",
    "plt.title('loss')\n",
    "plt.savefig(LOSSpng)"
   ]
  },
  {
   "cell_type": "markdown",
   "metadata": {
    "id": "vtOqbCgkd9PZ"
   },
   "source": [
    "## Load Best Model"
   ]
  },
  {
   "cell_type": "code",
   "execution_count": 51,
   "metadata": {},
   "outputs": [],
   "source": [
    "# Loads the weights\n",
    "model.load_weights(filepath)"
   ]
  },
  {
   "cell_type": "markdown",
   "metadata": {
    "id": "bLGijtIyzrf9"
   },
   "source": [
    "## Generate file for Kaggle"
   ]
  },
  {
   "cell_type": "code",
   "execution_count": 52,
   "metadata": {
    "colab": {
     "base_uri": "https://localhost:8080/",
     "height": 407
    },
    "executionInfo": {
     "elapsed": 3806,
     "status": "ok",
     "timestamp": 1614939739184,
     "user": {
      "displayName": "CY Li",
      "photoUrl": "https://lh3.googleusercontent.com/a-/AOh14GhUjBR-W3fjmzlI1F96TtArIXePd_MCbM8FFhB5fbI=s64",
      "userId": "11560903483017836470"
     },
     "user_tz": -480
    },
    "id": "ZPX5mGWfzswS",
    "outputId": "cb422ebf-647e-43ec-ed9d-ecbffba39d6a"
   },
   "outputs": [
    {
     "data": {
      "text/html": [
       "<div>\n",
       "<style scoped>\n",
       "    .dataframe tbody tr th:only-of-type {\n",
       "        vertical-align: middle;\n",
       "    }\n",
       "\n",
       "    .dataframe tbody tr th {\n",
       "        vertical-align: top;\n",
       "    }\n",
       "\n",
       "    .dataframe thead th {\n",
       "        text-align: right;\n",
       "    }\n",
       "</style>\n",
       "<table border=\"1\" class=\"dataframe\">\n",
       "  <thead>\n",
       "    <tr style=\"text-align: right;\">\n",
       "      <th></th>\n",
       "      <th>Id</th>\n",
       "      <th>Category</th>\n",
       "    </tr>\n",
       "  </thead>\n",
       "  <tbody>\n",
       "    <tr>\n",
       "      <th>0</th>\n",
       "      <td>0</td>\n",
       "      <td>7</td>\n",
       "    </tr>\n",
       "    <tr>\n",
       "      <th>1</th>\n",
       "      <td>1</td>\n",
       "      <td>2</td>\n",
       "    </tr>\n",
       "    <tr>\n",
       "      <th>2</th>\n",
       "      <td>2</td>\n",
       "      <td>1</td>\n",
       "    </tr>\n",
       "    <tr>\n",
       "      <th>3</th>\n",
       "      <td>3</td>\n",
       "      <td>0</td>\n",
       "    </tr>\n",
       "    <tr>\n",
       "      <th>4</th>\n",
       "      <td>4</td>\n",
       "      <td>4</td>\n",
       "    </tr>\n",
       "    <tr>\n",
       "      <th>...</th>\n",
       "      <td>...</td>\n",
       "      <td>...</td>\n",
       "    </tr>\n",
       "    <tr>\n",
       "      <th>9995</th>\n",
       "      <td>9995</td>\n",
       "      <td>2</td>\n",
       "    </tr>\n",
       "    <tr>\n",
       "      <th>9996</th>\n",
       "      <td>9996</td>\n",
       "      <td>3</td>\n",
       "    </tr>\n",
       "    <tr>\n",
       "      <th>9997</th>\n",
       "      <td>9997</td>\n",
       "      <td>4</td>\n",
       "    </tr>\n",
       "    <tr>\n",
       "      <th>9998</th>\n",
       "      <td>9998</td>\n",
       "      <td>5</td>\n",
       "    </tr>\n",
       "    <tr>\n",
       "      <th>9999</th>\n",
       "      <td>9999</td>\n",
       "      <td>6</td>\n",
       "    </tr>\n",
       "  </tbody>\n",
       "</table>\n",
       "<p>10000 rows × 2 columns</p>\n",
       "</div>"
      ],
      "text/plain": [
       "        Id  Category\n",
       "0        0         7\n",
       "1        1         2\n",
       "2        2         1\n",
       "3        3         0\n",
       "4        4         4\n",
       "...    ...       ...\n",
       "9995  9995         2\n",
       "9996  9996         3\n",
       "9997  9997         4\n",
       "9998  9998         5\n",
       "9999  9999         6\n",
       "\n",
       "[10000 rows x 2 columns]"
      ]
     },
     "execution_count": 52,
     "metadata": {},
     "output_type": "execute_result"
    }
   ],
   "source": [
    "# predict by your model\n",
    "predictions = model.predict(x_Test)\n",
    "predictions = np.argmax(predictions, axis=-1)\n",
    "\n",
    "df = pd.DataFrame()\n",
    "df['Id'] = [str(i) for i in range(len(x_Test))]\n",
    "df['Category'] = predictions\n",
    "df.to_csv(CSVpath, index=None)\n",
    "df"
   ]
  },
  {
   "cell_type": "markdown",
   "metadata": {
    "id": "bLGijtIyzrf9"
   },
   "source": [
    "## Calculate Score"
   ]
  },
  {
   "cell_type": "code",
   "execution_count": 89,
   "metadata": {
    "colab": {
     "base_uri": "https://localhost:8080/"
    },
    "executionInfo": {
     "elapsed": 1395,
     "status": "ok",
     "timestamp": 1614932298697,
     "user": {
      "displayName": "CY Li",
      "photoUrl": "https://lh3.googleusercontent.com/a-/AOh14GhUjBR-W3fjmzlI1F96TtArIXePd_MCbM8FFhB5fbI=s64",
      "userId": "11560903483017836470"
     },
     "user_tz": -480
    },
    "id": "OcAftD_1jAwf",
    "outputId": "0f393e0a-e2a4-4fa5-e132-7a9d82ba8dd6"
   },
   "outputs": [
    {
     "name": "stdout",
     "output_type": "stream",
     "text": [
      "(10000,) (10000,)\n"
     ]
    }
   ],
   "source": [
    "y_true = np.argmax(y_Test_OneHot, axis=-1) # Ground Truth\n",
    "y_pred = np.argmax(model.predict(x_Test), axis=-1) # Model prediction\n",
    "print(y_true.shape, y_pred.shape)"
   ]
  },
  {
   "cell_type": "code",
   "execution_count": 90,
   "metadata": {
    "colab": {
     "base_uri": "https://localhost:8080/"
    },
    "executionInfo": {
     "elapsed": 602,
     "status": "ok",
     "timestamp": 1614932307828,
     "user": {
      "displayName": "CY Li",
      "photoUrl": "https://lh3.googleusercontent.com/a-/AOh14GhUjBR-W3fjmzlI1F96TtArIXePd_MCbM8FFhB5fbI=s64",
      "userId": "11560903483017836470"
     },
     "user_tz": -480
    },
    "id": "hJsCXNhmX8XM",
    "outputId": "cfeaf86d-2a32-4957-c607-f08a7f22c06f"
   },
   "outputs": [
    {
     "name": "stdout",
     "output_type": "stream",
     "text": [
      "              precision    recall  f1-score   support\n",
      "\n",
      "           0    0.99491   0.99796   0.99643       980\n",
      "           1    0.99472   0.99648   0.99560      1135\n",
      "           2    0.99614   0.99903   0.99758      1032\n",
      "           3    0.99310   0.99703   0.99506      1010\n",
      "           4    0.99492   0.99695   0.99593       982\n",
      "           5    0.99439   0.99327   0.99383       892\n",
      "           6    0.99580   0.99061   0.99320       958\n",
      "           7    0.99706   0.99125   0.99415      1028\n",
      "           8    0.99692   0.99692   0.99692       974\n",
      "           9    0.99404   0.99207   0.99306      1009\n",
      "\n",
      "    accuracy                        0.99520     10000\n",
      "   macro avg    0.99520   0.99516   0.99518     10000\n",
      "weighted avg    0.99520   0.99520   0.99520     10000\n",
      "\n"
     ]
    }
   ],
   "source": [
    "# Classification Report\n",
    "# Ref: https://scikit-learn.org/stable/modules/generated/sklearn.metrics.classification_report.html\n",
    "label_names = [str(i) for i in range(10)] # ['0' ~  '9']\n",
    "print(classification_report(y_true, y_pred, target_names=label_names ,digits=5))"
   ]
  },
  {
   "cell_type": "code",
   "execution_count": 92,
   "metadata": {
    "colab": {
     "base_uri": "https://localhost:8080/"
    },
    "executionInfo": {
     "elapsed": 619,
     "status": "ok",
     "timestamp": 1614932311675,
     "user": {
      "displayName": "CY Li",
      "photoUrl": "https://lh3.googleusercontent.com/a-/AOh14GhUjBR-W3fjmzlI1F96TtArIXePd_MCbM8FFhB5fbI=s64",
      "userId": "11560903483017836470"
     },
     "user_tz": -480
    },
    "id": "oW1lY-KRYCpB",
    "outputId": "e341161d-c191-4b13-9e78-73d83bc26aba"
   },
   "outputs": [
    {
     "name": "stdout",
     "output_type": "stream",
     "text": [
      "[[ 978    0    0    0    0    0    1    1    0    0]\n",
      " [   0 1131    0    1    0    2    1    0    0    0]\n",
      " [   0    0 1031    0    0    0    0    1    0    0]\n",
      " [   0    0    0 1007    0    2    0    0    1    0]\n",
      " [   0    0    0    0  979    0    0    0    0    3]\n",
      " [   0    0    0    4    0  886    2    0    0    0]\n",
      " [   4    2    0    0    0    1  949    0    2    0]\n",
      " [   0    4    3    0    0    0    0 1019    0    2]\n",
      " [   0    0    0    2    0    0    0    0  971    1]\n",
      " [   1    0    1    0    5    0    0    1    0 1001]]\n"
     ]
    }
   ],
   "source": [
    "# Confusion Matrix: \n",
    "# Row: Truth\n",
    "# Column: Prediction\n",
    "# Ref: https://scikit-learn.org/stable/modules/generated/sklearn.metrics.confusion_matrix.html\n",
    "print(confusion_matrix(y_true, y_pred))"
   ]
  },
  {
   "cell_type": "markdown",
   "metadata": {
    "id": "bLGijtIyzrf9"
   },
   "source": [
    "## Record Score"
   ]
  },
  {
   "cell_type": "code",
   "execution_count": 56,
   "metadata": {},
   "outputs": [],
   "source": [
    "str_record = 'Model'+str(Mode)+ver+' : '\n",
    "if Mode == 1 :\n",
    "        str_record += ('DNN \\n')\n",
    "elif Mode == 2 :\n",
    "    str_record += ('RNN \\n')\n",
    "elif Mode == 3 :\n",
    "    str_record += ('CNN \\n')\n",
    "elif Mode == 4 :\n",
    "    str_record += ('VGG \\n')\n",
    "elif Mode == 5 :\n",
    "    str_record += ('ResNet v1 \\n')\n",
    "elif Mode == 6 :\n",
    "    str_record += ('ResNet v2 \\n')\n",
    "\n",
    "str_record += ('Epochs'+' : '+str(Epochs)+'\\n')"
   ]
  },
  {
   "cell_type": "code",
   "execution_count": 57,
   "metadata": {},
   "outputs": [],
   "source": [
    "def recording():\n",
    "    with open(Recordpath,'a',encoding='utf-8') as file :\n",
    "        file.write(str_record)\n",
    "        file.write('Best Val score    : ' + str(max_val_score)+'\\n')\n",
    "        file.write('Best epochs    : ' + str(max_val_epochs)+'\\n')\n",
    "        file.write('accuracy    : %.4f\\n' %accuracy_score(y_true, y_pred))\n",
    "        file.write('precision   : %.4f\\n' %precision_score(y_true, y_pred, average='weighted'))\n",
    "        file.write('recall      : %.4f\\n' %recall_score(y_true, y_pred,average='weighted'))\n",
    "        file.write('f1-score    : %.4f\\n' %f1_score(y_true, y_pred,average='weighted'))\n",
    "        file.write('\\n\\n')  \n",
    "\n",
    "try:\n",
    "    with open(Recordpath,'r',encoding='utf-8') as file :\n",
    "        Record = file.read()\n",
    "        if Record.find(str_record) == -1 : # 如果有做過相同實驗則不紀錄\n",
    "            recording()\n",
    "        else:\n",
    "            print('already record')\n",
    "except:\n",
    "    recording()     "
   ]
  },
  {
   "cell_type": "code",
   "execution_count": null,
   "metadata": {},
   "outputs": [],
   "source": []
  }
 ],
 "metadata": {
  "accelerator": "GPU",
  "colab": {
   "collapsed_sections": [],
   "name": "HW_mnist.ipynb",
   "provenance": [],
   "toc_visible": true
  },
  "kernelspec": {
   "display_name": "Python 3",
   "language": "python",
   "name": "python3"
  },
  "language_info": {
   "codemirror_mode": {
    "name": "ipython",
    "version": 3
   },
   "file_extension": ".py",
   "mimetype": "text/x-python",
   "name": "python",
   "nbconvert_exporter": "python",
   "pygments_lexer": "ipython3",
   "version": "3.6.12"
  }
 },
 "nbformat": 4,
 "nbformat_minor": 4
}
