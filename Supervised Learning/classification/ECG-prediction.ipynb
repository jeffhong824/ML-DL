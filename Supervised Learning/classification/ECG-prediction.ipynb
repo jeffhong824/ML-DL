{
 "cells": [
  {
   "cell_type": "code",
   "execution_count": 1,
   "metadata": {
    "colab": {
     "base_uri": "https://localhost:8080/"
    },
    "executionInfo": {
     "elapsed": 5590,
     "status": "ok",
     "timestamp": 1619170371302,
     "user": {
      "displayName": "CY Li",
      "photoUrl": "https://lh3.googleusercontent.com/a-/AOh14GhUjBR-W3fjmzlI1F96TtArIXePd_MCbM8FFhB5fbI=s64",
      "userId": "11560903483017836470"
     },
     "user_tz": -480
    },
    "id": "W9jmu_6EaXPP",
    "outputId": "457b7c13-c004-41f6-c6cc-18e4125d3e80"
   },
   "outputs": [
    {
     "name": "stdout",
     "output_type": "stream",
     "text": [
      "Downloading...\n",
      "From: https://drive.google.com/uc?id=18OYbRKPSUcapmGzbxmSfVnz7UMz7OGnO\n",
      "To: /content/ecg-kaggle.zip\n",
      "2.72MB [00:00, 86.9MB/s]\n"
     ]
    }
   ],
   "source": [
    "# Download from Google Drive\n",
    "!gdown --id 18OYbRKPSUcapmGzbxmSfVnz7UMz7OGnO"
   ]
  },
  {
   "cell_type": "code",
   "execution_count": 2,
   "metadata": {
    "colab": {
     "base_uri": "https://localhost:8080/"
    },
    "executionInfo": {
     "elapsed": 885,
     "status": "ok",
     "timestamp": 1619170377412,
     "user": {
      "displayName": "CY Li",
      "photoUrl": "https://lh3.googleusercontent.com/a-/AOh14GhUjBR-W3fjmzlI1F96TtArIXePd_MCbM8FFhB5fbI=s64",
      "userId": "11560903483017836470"
     },
     "user_tz": -480
    },
    "id": "ces7bx3EExWK",
    "outputId": "c78bde7c-4176-4ce6-d55a-bb20e7d646da"
   },
   "outputs": [
    {
     "name": "stdout",
     "output_type": "stream",
     "text": [
      "Archive:  ecg-kaggle.zip\n",
      "   creating: kaggle/\n",
      "  inflating: __MACOSX/._kaggle       \n",
      "  inflating: kaggle/Icon             \n",
      "  inflating: __MACOSX/kaggle/._Icon  \n",
      "  inflating: kaggle/test.csv         \n",
      "  inflating: __MACOSX/kaggle/._test.csv  \n",
      "  inflating: kaggle/train.csv        \n",
      "  inflating: __MACOSX/kaggle/._train.csv  \n"
     ]
    }
   ],
   "source": [
    "!unzip ecg-kaggle.zip"
   ]
  },
  {
   "cell_type": "code",
   "execution_count": 3,
   "metadata": {
    "colab": {
     "base_uri": "https://localhost:8080/",
     "height": 35
    },
    "executionInfo": {
     "elapsed": 3493,
     "status": "ok",
     "timestamp": 1619170394862,
     "user": {
      "displayName": "CY Li",
      "photoUrl": "https://lh3.googleusercontent.com/a-/AOh14GhUjBR-W3fjmzlI1F96TtArIXePd_MCbM8FFhB5fbI=s64",
      "userId": "11560903483017836470"
     },
     "user_tz": -480
    },
    "id": "KYvgQLZoaLsp",
    "outputId": "b12b17d8-bfc8-411e-f062-89941ea8d728"
   },
   "outputs": [
    {
     "data": {
      "application/vnd.google.colaboratory.intrinsic+json": {
       "type": "string"
      },
      "text/plain": [
       "'2.4.1'"
      ]
     },
     "execution_count": 3,
     "metadata": {
      "tags": []
     },
     "output_type": "execute_result"
    }
   ],
   "source": [
    "import pandas as pd\n",
    "import matplotlib.pyplot as plt\n",
    "import numpy as np\n",
    "from sklearn.model_selection import train_test_split\n",
    "from sklearn.metrics import classification_report, confusion_matrix\n",
    "import os\n",
    "\n",
    "import tensorflow as tf\n",
    "from tensorflow import keras\n",
    "from tensorflow.keras import layers, models, utils, callbacks, metrics\n",
    "\n",
    "import cv2\n",
    "tf.__version__"
   ]
  },
  {
   "cell_type": "code",
   "execution_count": 8,
   "metadata": {
    "executionInfo": {
     "elapsed": 703,
     "status": "ok",
     "timestamp": 1619170532441,
     "user": {
      "displayName": "CY Li",
      "photoUrl": "https://lh3.googleusercontent.com/a-/AOh14GhUjBR-W3fjmzlI1F96TtArIXePd_MCbM8FFhB5fbI=s64",
      "userId": "11560903483017836470"
     },
     "user_tz": -480
    },
    "id": "WKy_HXz7aLsw"
   },
   "outputs": [],
   "source": [
    "df = pd.read_csv('kaggle/train.csv')\n",
    "num_classes=5"
   ]
  },
  {
   "cell_type": "code",
   "execution_count": 9,
   "metadata": {
    "colab": {
     "base_uri": "https://localhost:8080/",
     "height": 251
    },
    "executionInfo": {
     "elapsed": 1347,
     "status": "ok",
     "timestamp": 1619170534133,
     "user": {
      "displayName": "CY Li",
      "photoUrl": "https://lh3.googleusercontent.com/a-/AOh14GhUjBR-W3fjmzlI1F96TtArIXePd_MCbM8FFhB5fbI=s64",
      "userId": "11560903483017836470"
     },
     "user_tz": -480
    },
    "id": "x2vY5R1-aLsy",
    "outputId": "9d151e9b-3ef6-4f32-d29f-921a7cf44f62"
   },
   "outputs": [
    {
     "data": {
      "text/html": [
       "<div>\n",
       "<style scoped>\n",
       "    .dataframe tbody tr th:only-of-type {\n",
       "        vertical-align: middle;\n",
       "    }\n",
       "\n",
       "    .dataframe tbody tr th {\n",
       "        vertical-align: top;\n",
       "    }\n",
       "\n",
       "    .dataframe thead th {\n",
       "        text-align: right;\n",
       "    }\n",
       "</style>\n",
       "<table border=\"1\" class=\"dataframe\">\n",
       "  <thead>\n",
       "    <tr style=\"text-align: right;\">\n",
       "      <th></th>\n",
       "      <th>0</th>\n",
       "      <th>1</th>\n",
       "      <th>2</th>\n",
       "      <th>3</th>\n",
       "      <th>4</th>\n",
       "      <th>5</th>\n",
       "      <th>6</th>\n",
       "      <th>7</th>\n",
       "      <th>8</th>\n",
       "      <th>9</th>\n",
       "      <th>10</th>\n",
       "      <th>11</th>\n",
       "      <th>12</th>\n",
       "      <th>13</th>\n",
       "      <th>14</th>\n",
       "      <th>15</th>\n",
       "      <th>16</th>\n",
       "      <th>17</th>\n",
       "      <th>18</th>\n",
       "      <th>19</th>\n",
       "      <th>20</th>\n",
       "      <th>21</th>\n",
       "      <th>22</th>\n",
       "      <th>23</th>\n",
       "      <th>24</th>\n",
       "      <th>25</th>\n",
       "      <th>26</th>\n",
       "      <th>27</th>\n",
       "      <th>28</th>\n",
       "      <th>29</th>\n",
       "      <th>30</th>\n",
       "      <th>31</th>\n",
       "      <th>32</th>\n",
       "      <th>33</th>\n",
       "      <th>34</th>\n",
       "      <th>35</th>\n",
       "      <th>36</th>\n",
       "      <th>37</th>\n",
       "      <th>38</th>\n",
       "      <th>39</th>\n",
       "      <th>...</th>\n",
       "      <th>148</th>\n",
       "      <th>149</th>\n",
       "      <th>150</th>\n",
       "      <th>151</th>\n",
       "      <th>152</th>\n",
       "      <th>153</th>\n",
       "      <th>154</th>\n",
       "      <th>155</th>\n",
       "      <th>156</th>\n",
       "      <th>157</th>\n",
       "      <th>158</th>\n",
       "      <th>159</th>\n",
       "      <th>160</th>\n",
       "      <th>161</th>\n",
       "      <th>162</th>\n",
       "      <th>163</th>\n",
       "      <th>164</th>\n",
       "      <th>165</th>\n",
       "      <th>166</th>\n",
       "      <th>167</th>\n",
       "      <th>168</th>\n",
       "      <th>169</th>\n",
       "      <th>170</th>\n",
       "      <th>171</th>\n",
       "      <th>172</th>\n",
       "      <th>173</th>\n",
       "      <th>174</th>\n",
       "      <th>175</th>\n",
       "      <th>176</th>\n",
       "      <th>177</th>\n",
       "      <th>178</th>\n",
       "      <th>179</th>\n",
       "      <th>180</th>\n",
       "      <th>181</th>\n",
       "      <th>182</th>\n",
       "      <th>183</th>\n",
       "      <th>184</th>\n",
       "      <th>185</th>\n",
       "      <th>186</th>\n",
       "      <th>187</th>\n",
       "    </tr>\n",
       "  </thead>\n",
       "  <tbody>\n",
       "    <tr>\n",
       "      <th>0</th>\n",
       "      <td>0.952899</td>\n",
       "      <td>0.952899</td>\n",
       "      <td>0.653986</td>\n",
       "      <td>0.438406</td>\n",
       "      <td>0.409420</td>\n",
       "      <td>0.403986</td>\n",
       "      <td>0.364130</td>\n",
       "      <td>0.309783</td>\n",
       "      <td>0.268116</td>\n",
       "      <td>0.222826</td>\n",
       "      <td>0.182971</td>\n",
       "      <td>0.146739</td>\n",
       "      <td>0.121377</td>\n",
       "      <td>0.123188</td>\n",
       "      <td>0.110507</td>\n",
       "      <td>0.106884</td>\n",
       "      <td>0.106884</td>\n",
       "      <td>0.094203</td>\n",
       "      <td>0.096014</td>\n",
       "      <td>0.085145</td>\n",
       "      <td>0.081522</td>\n",
       "      <td>0.076087</td>\n",
       "      <td>0.065217</td>\n",
       "      <td>0.057971</td>\n",
       "      <td>0.041667</td>\n",
       "      <td>0.038043</td>\n",
       "      <td>0.019928</td>\n",
       "      <td>0.014493</td>\n",
       "      <td>0.010870</td>\n",
       "      <td>0.000000</td>\n",
       "      <td>0.005435</td>\n",
       "      <td>0.007246</td>\n",
       "      <td>0.019928</td>\n",
       "      <td>0.041667</td>\n",
       "      <td>0.056159</td>\n",
       "      <td>0.079710</td>\n",
       "      <td>0.114130</td>\n",
       "      <td>0.141304</td>\n",
       "      <td>0.172101</td>\n",
       "      <td>0.181159</td>\n",
       "      <td>...</td>\n",
       "      <td>0.0</td>\n",
       "      <td>0.0</td>\n",
       "      <td>0.0</td>\n",
       "      <td>0.0</td>\n",
       "      <td>0.0</td>\n",
       "      <td>0.0</td>\n",
       "      <td>0.0</td>\n",
       "      <td>0.0</td>\n",
       "      <td>0.0</td>\n",
       "      <td>0.0</td>\n",
       "      <td>0.0</td>\n",
       "      <td>0.0</td>\n",
       "      <td>0.0</td>\n",
       "      <td>0.0</td>\n",
       "      <td>0.0</td>\n",
       "      <td>0.0</td>\n",
       "      <td>0.0</td>\n",
       "      <td>0.0</td>\n",
       "      <td>0.0</td>\n",
       "      <td>0.0</td>\n",
       "      <td>0.0</td>\n",
       "      <td>0.0</td>\n",
       "      <td>0.0</td>\n",
       "      <td>0.0</td>\n",
       "      <td>0.0</td>\n",
       "      <td>0.0</td>\n",
       "      <td>0.0</td>\n",
       "      <td>0.0</td>\n",
       "      <td>0.0</td>\n",
       "      <td>0.0</td>\n",
       "      <td>0.0</td>\n",
       "      <td>0.0</td>\n",
       "      <td>0.0</td>\n",
       "      <td>0.0</td>\n",
       "      <td>0.0</td>\n",
       "      <td>0.0</td>\n",
       "      <td>0.0</td>\n",
       "      <td>0.0</td>\n",
       "      <td>0.0</td>\n",
       "      <td>0.0</td>\n",
       "    </tr>\n",
       "    <tr>\n",
       "      <th>1</th>\n",
       "      <td>0.964968</td>\n",
       "      <td>0.646497</td>\n",
       "      <td>0.773885</td>\n",
       "      <td>0.366242</td>\n",
       "      <td>0.181529</td>\n",
       "      <td>0.162420</td>\n",
       "      <td>0.149682</td>\n",
       "      <td>0.146497</td>\n",
       "      <td>0.146497</td>\n",
       "      <td>0.136943</td>\n",
       "      <td>0.127389</td>\n",
       "      <td>0.117834</td>\n",
       "      <td>0.111465</td>\n",
       "      <td>0.105096</td>\n",
       "      <td>0.092357</td>\n",
       "      <td>0.092357</td>\n",
       "      <td>0.082803</td>\n",
       "      <td>0.082803</td>\n",
       "      <td>0.063694</td>\n",
       "      <td>0.060510</td>\n",
       "      <td>0.044586</td>\n",
       "      <td>0.041401</td>\n",
       "      <td>0.035032</td>\n",
       "      <td>0.031847</td>\n",
       "      <td>0.019108</td>\n",
       "      <td>0.009554</td>\n",
       "      <td>0.006369</td>\n",
       "      <td>0.006369</td>\n",
       "      <td>0.000000</td>\n",
       "      <td>0.003185</td>\n",
       "      <td>0.003185</td>\n",
       "      <td>0.009554</td>\n",
       "      <td>0.009554</td>\n",
       "      <td>0.025478</td>\n",
       "      <td>0.035032</td>\n",
       "      <td>0.044586</td>\n",
       "      <td>0.063694</td>\n",
       "      <td>0.082803</td>\n",
       "      <td>0.098726</td>\n",
       "      <td>0.114650</td>\n",
       "      <td>...</td>\n",
       "      <td>0.0</td>\n",
       "      <td>0.0</td>\n",
       "      <td>0.0</td>\n",
       "      <td>0.0</td>\n",
       "      <td>0.0</td>\n",
       "      <td>0.0</td>\n",
       "      <td>0.0</td>\n",
       "      <td>0.0</td>\n",
       "      <td>0.0</td>\n",
       "      <td>0.0</td>\n",
       "      <td>0.0</td>\n",
       "      <td>0.0</td>\n",
       "      <td>0.0</td>\n",
       "      <td>0.0</td>\n",
       "      <td>0.0</td>\n",
       "      <td>0.0</td>\n",
       "      <td>0.0</td>\n",
       "      <td>0.0</td>\n",
       "      <td>0.0</td>\n",
       "      <td>0.0</td>\n",
       "      <td>0.0</td>\n",
       "      <td>0.0</td>\n",
       "      <td>0.0</td>\n",
       "      <td>0.0</td>\n",
       "      <td>0.0</td>\n",
       "      <td>0.0</td>\n",
       "      <td>0.0</td>\n",
       "      <td>0.0</td>\n",
       "      <td>0.0</td>\n",
       "      <td>0.0</td>\n",
       "      <td>0.0</td>\n",
       "      <td>0.0</td>\n",
       "      <td>0.0</td>\n",
       "      <td>0.0</td>\n",
       "      <td>0.0</td>\n",
       "      <td>0.0</td>\n",
       "      <td>0.0</td>\n",
       "      <td>0.0</td>\n",
       "      <td>0.0</td>\n",
       "      <td>4.0</td>\n",
       "    </tr>\n",
       "    <tr>\n",
       "      <th>2</th>\n",
       "      <td>0.977551</td>\n",
       "      <td>1.000000</td>\n",
       "      <td>0.608163</td>\n",
       "      <td>0.393878</td>\n",
       "      <td>0.369388</td>\n",
       "      <td>0.324490</td>\n",
       "      <td>0.275510</td>\n",
       "      <td>0.226531</td>\n",
       "      <td>0.185714</td>\n",
       "      <td>0.144898</td>\n",
       "      <td>0.114286</td>\n",
       "      <td>0.089796</td>\n",
       "      <td>0.093878</td>\n",
       "      <td>0.077551</td>\n",
       "      <td>0.081633</td>\n",
       "      <td>0.055102</td>\n",
       "      <td>0.075510</td>\n",
       "      <td>0.065306</td>\n",
       "      <td>0.061224</td>\n",
       "      <td>0.051020</td>\n",
       "      <td>0.053061</td>\n",
       "      <td>0.044898</td>\n",
       "      <td>0.032653</td>\n",
       "      <td>0.032653</td>\n",
       "      <td>0.030612</td>\n",
       "      <td>0.014286</td>\n",
       "      <td>0.022449</td>\n",
       "      <td>0.008163</td>\n",
       "      <td>0.022449</td>\n",
       "      <td>0.018367</td>\n",
       "      <td>0.034694</td>\n",
       "      <td>0.055102</td>\n",
       "      <td>0.091837</td>\n",
       "      <td>0.120408</td>\n",
       "      <td>0.148980</td>\n",
       "      <td>0.165306</td>\n",
       "      <td>0.179592</td>\n",
       "      <td>0.165306</td>\n",
       "      <td>0.183673</td>\n",
       "      <td>0.169388</td>\n",
       "      <td>...</td>\n",
       "      <td>0.0</td>\n",
       "      <td>0.0</td>\n",
       "      <td>0.0</td>\n",
       "      <td>0.0</td>\n",
       "      <td>0.0</td>\n",
       "      <td>0.0</td>\n",
       "      <td>0.0</td>\n",
       "      <td>0.0</td>\n",
       "      <td>0.0</td>\n",
       "      <td>0.0</td>\n",
       "      <td>0.0</td>\n",
       "      <td>0.0</td>\n",
       "      <td>0.0</td>\n",
       "      <td>0.0</td>\n",
       "      <td>0.0</td>\n",
       "      <td>0.0</td>\n",
       "      <td>0.0</td>\n",
       "      <td>0.0</td>\n",
       "      <td>0.0</td>\n",
       "      <td>0.0</td>\n",
       "      <td>0.0</td>\n",
       "      <td>0.0</td>\n",
       "      <td>0.0</td>\n",
       "      <td>0.0</td>\n",
       "      <td>0.0</td>\n",
       "      <td>0.0</td>\n",
       "      <td>0.0</td>\n",
       "      <td>0.0</td>\n",
       "      <td>0.0</td>\n",
       "      <td>0.0</td>\n",
       "      <td>0.0</td>\n",
       "      <td>0.0</td>\n",
       "      <td>0.0</td>\n",
       "      <td>0.0</td>\n",
       "      <td>0.0</td>\n",
       "      <td>0.0</td>\n",
       "      <td>0.0</td>\n",
       "      <td>0.0</td>\n",
       "      <td>0.0</td>\n",
       "      <td>0.0</td>\n",
       "    </tr>\n",
       "    <tr>\n",
       "      <th>3</th>\n",
       "      <td>0.943878</td>\n",
       "      <td>0.905612</td>\n",
       "      <td>0.706633</td>\n",
       "      <td>0.239796</td>\n",
       "      <td>0.063776</td>\n",
       "      <td>0.150510</td>\n",
       "      <td>0.114796</td>\n",
       "      <td>0.043367</td>\n",
       "      <td>0.015306</td>\n",
       "      <td>0.043367</td>\n",
       "      <td>0.038265</td>\n",
       "      <td>0.048469</td>\n",
       "      <td>0.051020</td>\n",
       "      <td>0.056122</td>\n",
       "      <td>0.066327</td>\n",
       "      <td>0.061224</td>\n",
       "      <td>0.043367</td>\n",
       "      <td>0.053571</td>\n",
       "      <td>0.061224</td>\n",
       "      <td>0.056122</td>\n",
       "      <td>0.058673</td>\n",
       "      <td>0.079082</td>\n",
       "      <td>0.086735</td>\n",
       "      <td>0.089286</td>\n",
       "      <td>0.084184</td>\n",
       "      <td>0.109694</td>\n",
       "      <td>0.094388</td>\n",
       "      <td>0.094388</td>\n",
       "      <td>0.096939</td>\n",
       "      <td>0.119898</td>\n",
       "      <td>0.125000</td>\n",
       "      <td>0.127551</td>\n",
       "      <td>0.112245</td>\n",
       "      <td>0.132653</td>\n",
       "      <td>0.127551</td>\n",
       "      <td>0.114796</td>\n",
       "      <td>0.117347</td>\n",
       "      <td>0.125000</td>\n",
       "      <td>0.122449</td>\n",
       "      <td>0.104592</td>\n",
       "      <td>...</td>\n",
       "      <td>0.0</td>\n",
       "      <td>0.0</td>\n",
       "      <td>0.0</td>\n",
       "      <td>0.0</td>\n",
       "      <td>0.0</td>\n",
       "      <td>0.0</td>\n",
       "      <td>0.0</td>\n",
       "      <td>0.0</td>\n",
       "      <td>0.0</td>\n",
       "      <td>0.0</td>\n",
       "      <td>0.0</td>\n",
       "      <td>0.0</td>\n",
       "      <td>0.0</td>\n",
       "      <td>0.0</td>\n",
       "      <td>0.0</td>\n",
       "      <td>0.0</td>\n",
       "      <td>0.0</td>\n",
       "      <td>0.0</td>\n",
       "      <td>0.0</td>\n",
       "      <td>0.0</td>\n",
       "      <td>0.0</td>\n",
       "      <td>0.0</td>\n",
       "      <td>0.0</td>\n",
       "      <td>0.0</td>\n",
       "      <td>0.0</td>\n",
       "      <td>0.0</td>\n",
       "      <td>0.0</td>\n",
       "      <td>0.0</td>\n",
       "      <td>0.0</td>\n",
       "      <td>0.0</td>\n",
       "      <td>0.0</td>\n",
       "      <td>0.0</td>\n",
       "      <td>0.0</td>\n",
       "      <td>0.0</td>\n",
       "      <td>0.0</td>\n",
       "      <td>0.0</td>\n",
       "      <td>0.0</td>\n",
       "      <td>0.0</td>\n",
       "      <td>0.0</td>\n",
       "      <td>0.0</td>\n",
       "    </tr>\n",
       "    <tr>\n",
       "      <th>4</th>\n",
       "      <td>0.945338</td>\n",
       "      <td>0.848875</td>\n",
       "      <td>0.508039</td>\n",
       "      <td>0.234727</td>\n",
       "      <td>0.131833</td>\n",
       "      <td>0.125402</td>\n",
       "      <td>0.080386</td>\n",
       "      <td>0.086817</td>\n",
       "      <td>0.070740</td>\n",
       "      <td>0.073955</td>\n",
       "      <td>0.054662</td>\n",
       "      <td>0.067524</td>\n",
       "      <td>0.048232</td>\n",
       "      <td>0.028939</td>\n",
       "      <td>0.000000</td>\n",
       "      <td>0.016077</td>\n",
       "      <td>0.016077</td>\n",
       "      <td>0.035370</td>\n",
       "      <td>0.025723</td>\n",
       "      <td>0.035370</td>\n",
       "      <td>0.041801</td>\n",
       "      <td>0.054662</td>\n",
       "      <td>0.048232</td>\n",
       "      <td>0.064309</td>\n",
       "      <td>0.064309</td>\n",
       "      <td>0.073955</td>\n",
       "      <td>0.083601</td>\n",
       "      <td>0.109325</td>\n",
       "      <td>0.099678</td>\n",
       "      <td>0.135048</td>\n",
       "      <td>0.125402</td>\n",
       "      <td>0.151125</td>\n",
       "      <td>0.135048</td>\n",
       "      <td>0.141479</td>\n",
       "      <td>0.144695</td>\n",
       "      <td>0.154341</td>\n",
       "      <td>0.147910</td>\n",
       "      <td>0.170418</td>\n",
       "      <td>0.141479</td>\n",
       "      <td>0.157556</td>\n",
       "      <td>...</td>\n",
       "      <td>0.0</td>\n",
       "      <td>0.0</td>\n",
       "      <td>0.0</td>\n",
       "      <td>0.0</td>\n",
       "      <td>0.0</td>\n",
       "      <td>0.0</td>\n",
       "      <td>0.0</td>\n",
       "      <td>0.0</td>\n",
       "      <td>0.0</td>\n",
       "      <td>0.0</td>\n",
       "      <td>0.0</td>\n",
       "      <td>0.0</td>\n",
       "      <td>0.0</td>\n",
       "      <td>0.0</td>\n",
       "      <td>0.0</td>\n",
       "      <td>0.0</td>\n",
       "      <td>0.0</td>\n",
       "      <td>0.0</td>\n",
       "      <td>0.0</td>\n",
       "      <td>0.0</td>\n",
       "      <td>0.0</td>\n",
       "      <td>0.0</td>\n",
       "      <td>0.0</td>\n",
       "      <td>0.0</td>\n",
       "      <td>0.0</td>\n",
       "      <td>0.0</td>\n",
       "      <td>0.0</td>\n",
       "      <td>0.0</td>\n",
       "      <td>0.0</td>\n",
       "      <td>0.0</td>\n",
       "      <td>0.0</td>\n",
       "      <td>0.0</td>\n",
       "      <td>0.0</td>\n",
       "      <td>0.0</td>\n",
       "      <td>0.0</td>\n",
       "      <td>0.0</td>\n",
       "      <td>0.0</td>\n",
       "      <td>0.0</td>\n",
       "      <td>0.0</td>\n",
       "      <td>0.0</td>\n",
       "    </tr>\n",
       "  </tbody>\n",
       "</table>\n",
       "<p>5 rows × 188 columns</p>\n",
       "</div>"
      ],
      "text/plain": [
       "          0         1         2         3         4  ...  183  184  185  186  187\n",
       "0  0.952899  0.952899  0.653986  0.438406  0.409420  ...  0.0  0.0  0.0  0.0  0.0\n",
       "1  0.964968  0.646497  0.773885  0.366242  0.181529  ...  0.0  0.0  0.0  0.0  4.0\n",
       "2  0.977551  1.000000  0.608163  0.393878  0.369388  ...  0.0  0.0  0.0  0.0  0.0\n",
       "3  0.943878  0.905612  0.706633  0.239796  0.063776  ...  0.0  0.0  0.0  0.0  0.0\n",
       "4  0.945338  0.848875  0.508039  0.234727  0.131833  ...  0.0  0.0  0.0  0.0  0.0\n",
       "\n",
       "[5 rows x 188 columns]"
      ]
     },
     "execution_count": 9,
     "metadata": {
      "tags": []
     },
     "output_type": "execute_result"
    }
   ],
   "source": [
    "df.head()"
   ]
  },
  {
   "cell_type": "code",
   "execution_count": 10,
   "metadata": {
    "executionInfo": {
     "elapsed": 625,
     "status": "ok",
     "timestamp": 1619170541657,
     "user": {
      "displayName": "CY Li",
      "photoUrl": "https://lh3.googleusercontent.com/a-/AOh14GhUjBR-W3fjmzlI1F96TtArIXePd_MCbM8FFhB5fbI=s64",
      "userId": "11560903483017836470"
     },
     "user_tz": -480
    },
    "id": "cBJn-xmSbFQ4"
   },
   "outputs": [],
   "source": [
    "df_train, df_val = train_test_split(df, test_size=0.2)"
   ]
  },
  {
   "cell_type": "code",
   "execution_count": 11,
   "metadata": {
    "executionInfo": {
     "elapsed": 959,
     "status": "ok",
     "timestamp": 1619170546778,
     "user": {
      "displayName": "CY Li",
      "photoUrl": "https://lh3.googleusercontent.com/a-/AOh14GhUjBR-W3fjmzlI1F96TtArIXePd_MCbM8FFhB5fbI=s64",
      "userId": "11560903483017836470"
     },
     "user_tz": -480
    },
    "id": "u0sSv4J1aLtN"
   },
   "outputs": [],
   "source": [
    "# last column: label\n",
    "# other columns: ECG signals\n",
    "x_train = df_train.iloc[:, :-1]\n",
    "x_train = np.expand_dims(x_train, axis=-1)\n",
    "y_train = df_train.iloc[:, -1]\n",
    "\n",
    "x_val = df_val.iloc[:, :-1]\n",
    "x_val = np.expand_dims(x_val, axis=-1)\n",
    "y_val = df_val.iloc[:, -1]\n",
    "\n",
    "y_train = utils.to_categorical(y_train, num_classes=num_classes)\n",
    "y_val = utils.to_categorical(y_val, num_classes=num_classes)"
   ]
  },
  {
   "cell_type": "code",
   "execution_count": 12,
   "metadata": {
    "colab": {
     "base_uri": "https://localhost:8080/"
    },
    "executionInfo": {
     "elapsed": 828,
     "status": "ok",
     "timestamp": 1619170550975,
     "user": {
      "displayName": "CY Li",
      "photoUrl": "https://lh3.googleusercontent.com/a-/AOh14GhUjBR-W3fjmzlI1F96TtArIXePd_MCbM8FFhB5fbI=s64",
      "userId": "11560903483017836470"
     },
     "user_tz": -480
    },
    "id": "t5YZZJWZaLtQ",
    "outputId": "0c401831-071e-45e8-c36c-69477c73d4a4"
   },
   "outputs": [
    {
     "data": {
      "text/plain": [
       "((1167, 187, 1), (1167, 5), (292, 187, 1), (292, 5))"
      ]
     },
     "execution_count": 12,
     "metadata": {
      "tags": []
     },
     "output_type": "execute_result"
    }
   ],
   "source": [
    "# (# of data, signal length, channel)\n",
    "x_train.shape, y_train.shape, x_val.shape, y_val.shape"
   ]
  },
  {
   "cell_type": "code",
   "execution_count": 13,
   "metadata": {
    "colab": {
     "base_uri": "https://localhost:8080/",
     "height": 300
    },
    "executionInfo": {
     "elapsed": 945,
     "status": "ok",
     "timestamp": 1619170558965,
     "user": {
      "displayName": "CY Li",
      "photoUrl": "https://lh3.googleusercontent.com/a-/AOh14GhUjBR-W3fjmzlI1F96TtArIXePd_MCbM8FFhB5fbI=s64",
      "userId": "11560903483017836470"
     },
     "user_tz": -480
    },
    "id": "7hfp2IZWofSm",
    "outputId": "9405fb70-c114-4326-f58c-741852963f0a"
   },
   "outputs": [
    {
     "name": "stdout",
     "output_type": "stream",
     "text": [
      "label:  [1. 0. 0. 0. 0.]\n"
     ]
    },
    {
     "data": {
      "text/plain": [
       "[<matplotlib.lines.Line2D at 0x7f635e458a90>]"
      ]
     },
     "execution_count": 13,
     "metadata": {
      "tags": []
     },
     "output_type": "execute_result"
    },
    {
     "data": {
      "image/png": "[encoded data removed]",
      "text/plain": [
       "<Figure size 432x288 with 1 Axes>"
      ]
     },
     "metadata": {
      "needs_background": "light",
      "tags": []
     },
     "output_type": "display_data"
    }
   ],
   "source": [
    "idx = np.random.randint(0, len(x_train))\n",
    "print('label: ', y_train[idx])\n",
    "plt.plot(x_train[idx])"
   ]
  },
  {
   "cell_type": "code",
   "execution_count": 14,
   "metadata": {
    "colab": {
     "base_uri": "https://localhost:8080/"
    },
    "executionInfo": {
     "elapsed": 607,
     "status": "ok",
     "timestamp": 1619170561476,
     "user": {
      "displayName": "CY Li",
      "photoUrl": "https://lh3.googleusercontent.com/a-/AOh14GhUjBR-W3fjmzlI1F96TtArIXePd_MCbM8FFhB5fbI=s64",
      "userId": "11560903483017836470"
     },
     "user_tz": -480
    },
    "id": "9AlqHd5bow0O",
    "outputId": "ea0a59e8-6024-4e8e-bb74-5e71ab240216"
   },
   "outputs": [
    {
     "data": {
      "text/plain": [
       "((array([0, 1, 2, 3, 4]), array([961,  38,  76,   9,  83])),\n",
       " (array([0, 1, 2, 3, 4]), array([247,   7,  22,   1,  15])))"
      ]
     },
     "execution_count": 14,
     "metadata": {
      "tags": []
     },
     "output_type": "execute_result"
    }
   ],
   "source": [
    "np.unique(np.argmax(y_train, axis=-1), return_counts=True), np.unique(np.argmax(y_val, axis=-1), return_counts=True)"
   ]
  },
  {
   "cell_type": "code",
   "execution_count": 15,
   "metadata": {
    "executionInfo": {
     "elapsed": 604,
     "status": "ok",
     "timestamp": 1619170586853,
     "user": {
      "displayName": "CY Li",
      "photoUrl": "https://lh3.googleusercontent.com/a-/AOh14GhUjBR-W3fjmzlI1F96TtArIXePd_MCbM8FFhB5fbI=s64",
      "userId": "11560903483017836470"
     },
     "user_tz": -480
    },
    "id": "Git1WfBWaLtT"
   },
   "outputs": [],
   "source": [
    "def build_model():\n",
    "    inputs = layers.Input(shape=x_train.shape[1:])\n",
    "    conv1_1 = layers.Conv1D(64, (6), activation='relu')(inputs)\n",
    "    conv1_1 = layers.BatchNormalization()(conv1_1)\n",
    "    pool1 = layers.Conv1D(64, 3, strides=(2), padding=\"same\")(conv1_1)\n",
    "    conv2_1 = layers.Conv1D(128, (3), activation='relu')(pool1)\n",
    "    conv2_1 = layers.BatchNormalization()(conv2_1)\n",
    "    pool2 = layers.Conv1D(128, 3, strides=(2), padding=\"same\")(conv2_1)\n",
    "    conv3_1 = layers.Conv1D(256, (3), activation='relu')(pool2)\n",
    "    conv3_1 = layers.BatchNormalization()(conv3_1)\n",
    "    pool3 = layers.Conv1D(256, 3, strides=(2), padding=\"same\")(conv3_1)\n",
    "    pool3 = layers.MaxPooling1D()(pool3)\n",
    "    flatten = layers.GlobalAveragePooling1D()(pool3)\n",
    "    dense_end1 = layers.Dense(64, activation='relu')(flatten)\n",
    "    dense_end2 = layers.Dense(32, activation='relu')(dense_end1)\n",
    "    main_output = layers.Dense(num_classes, activation='softmax', name='main_output')(dense_end2)\n",
    "    \n",
    "    model = models.Model(inputs, main_output)\n",
    "    model.compile(optimizer='adam', \n",
    "                  loss='categorical_crossentropy',\n",
    "                  metrics = ['accuracy'])\n",
    "    return model"
   ]
  },
  {
   "cell_type": "code",
   "execution_count": 16,
   "metadata": {
    "colab": {
     "base_uri": "https://localhost:8080/"
    },
    "executionInfo": {
     "elapsed": 6149,
     "status": "ok",
     "timestamp": 1619170643028,
     "user": {
      "displayName": "CY Li",
      "photoUrl": "https://lh3.googleusercontent.com/a-/AOh14GhUjBR-W3fjmzlI1F96TtArIXePd_MCbM8FFhB5fbI=s64",
      "userId": "11560903483017836470"
     },
     "user_tz": -480
    },
    "id": "qFNobbp5aLtW",
    "outputId": "5055a60e-2590-4f0b-db95-a3e7abea3339"
   },
   "outputs": [
    {
     "name": "stdout",
     "output_type": "stream",
     "text": [
      "Model: \"model\"\n",
      "_________________________________________________________________\n",
      "Layer (type)                 Output Shape              Param #   \n",
      "=================================================================\n",
      "input_1 (InputLayer)         [(None, 187, 1)]          0         \n",
      "_________________________________________________________________\n",
      "conv1d (Conv1D)              (None, 182, 64)           448       \n",
      "_________________________________________________________________\n",
      "batch_normalization (BatchNo (None, 182, 64)           256       \n",
      "_________________________________________________________________\n",
      "conv1d_1 (Conv1D)            (None, 91, 64)            12352     \n",
      "_________________________________________________________________\n",
      "conv1d_2 (Conv1D)            (None, 89, 128)           24704     \n",
      "_________________________________________________________________\n",
      "batch_normalization_1 (Batch (None, 89, 128)           512       \n",
      "_________________________________________________________________\n",
      "conv1d_3 (Conv1D)            (None, 45, 128)           49280     \n",
      "_________________________________________________________________\n",
      "conv1d_4 (Conv1D)            (None, 43, 256)           98560     \n",
      "_________________________________________________________________\n",
      "batch_normalization_2 (Batch (None, 43, 256)           1024      \n",
      "_________________________________________________________________\n",
      "conv1d_5 (Conv1D)            (None, 22, 256)           196864    \n",
      "_________________________________________________________________\n",
      "max_pooling1d (MaxPooling1D) (None, 11, 256)           0         \n",
      "_________________________________________________________________\n",
      "global_average_pooling1d (Gl (None, 256)               0         \n",
      "_________________________________________________________________\n",
      "dense (Dense)                (None, 64)                16448     \n",
      "_________________________________________________________________\n",
      "dense_1 (Dense)              (None, 32)                2080      \n",
      "_________________________________________________________________\n",
      "main_output (Dense)          (None, 5)                 165       \n",
      "=================================================================\n",
      "Total params: 402,693\n",
      "Trainable params: 401,797\n",
      "Non-trainable params: 896\n",
      "_________________________________________________________________\n"
     ]
    }
   ],
   "source": [
    "model = build_model()\n",
    "model.summary()"
   ]
  },
  {
   "cell_type": "code",
   "execution_count": 17,
   "metadata": {
    "executionInfo": {
     "elapsed": 700,
     "status": "ok",
     "timestamp": 1619170661830,
     "user": {
      "displayName": "CY Li",
      "photoUrl": "https://lh3.googleusercontent.com/a-/AOh14GhUjBR-W3fjmzlI1F96TtArIXePd_MCbM8FFhB5fbI=s64",
      "userId": "11560903483017836470"
     },
     "user_tz": -480
    },
    "id": "aZNJNwYJaLtZ"
   },
   "outputs": [],
   "source": [
    "callback = [tf.keras.callbacks.EarlyStopping(monitor='val_loss', patience=20),\n",
    "            tf.keras.callbacks.ModelCheckpoint(filepath='model.h5', monitor='val_loss', save_best_only=True)\n",
    "            ]"
   ]
  },
  {
   "cell_type": "code",
   "execution_count": 18,
   "metadata": {
    "colab": {
     "base_uri": "https://localhost:8080/"
    },
    "executionInfo": {
     "elapsed": 49983,
     "status": "ok",
     "timestamp": 1619170721314,
     "user": {
      "displayName": "CY Li",
      "photoUrl": "https://lh3.googleusercontent.com/a-/AOh14GhUjBR-W3fjmzlI1F96TtArIXePd_MCbM8FFhB5fbI=s64",
      "userId": "11560903483017836470"
     },
     "user_tz": -480
    },
    "id": "lIHFGNEXaLtd",
    "outputId": "0de6af4e-1587-4f9d-b172-f592f85051ce"
   },
   "outputs": [
    {
     "name": "stdout",
     "output_type": "stream",
     "text": [
      "Epoch 1/1000\n",
      "37/37 [==============================] - 33s 26ms/step - loss: 0.7852 - accuracy: 0.7670 - val_loss: 1.1657 - val_accuracy: 0.8459\n",
      "Epoch 2/1000\n",
      "37/37 [==============================] - 0s 10ms/step - loss: 0.3861 - accuracy: 0.8897 - val_loss: 1.4156 - val_accuracy: 0.0753\n",
      "Epoch 3/1000\n",
      "37/37 [==============================] - 0s 10ms/step - loss: 0.3562 - accuracy: 0.8829 - val_loss: 1.4018 - val_accuracy: 0.0753\n",
      "Epoch 4/1000\n",
      "37/37 [==============================] - 0s 10ms/step - loss: 0.2683 - accuracy: 0.9214 - val_loss: 1.7199 - val_accuracy: 0.0753\n",
      "Epoch 5/1000\n",
      "37/37 [==============================] - 0s 10ms/step - loss: 0.2193 - accuracy: 0.9263 - val_loss: 1.3211 - val_accuracy: 0.0240\n",
      "Epoch 6/1000\n",
      "37/37 [==============================] - 0s 10ms/step - loss: 0.1734 - accuracy: 0.9486 - val_loss: 2.3296 - val_accuracy: 0.0616\n",
      "Epoch 7/1000\n",
      "37/37 [==============================] - 0s 10ms/step - loss: 0.1871 - accuracy: 0.9430 - val_loss: 1.0412 - val_accuracy: 0.6918\n",
      "Epoch 8/1000\n",
      "37/37 [==============================] - 0s 10ms/step - loss: 0.1646 - accuracy: 0.9498 - val_loss: 1.7904 - val_accuracy: 0.0753\n",
      "Epoch 9/1000\n",
      "37/37 [==============================] - 0s 10ms/step - loss: 0.1356 - accuracy: 0.9574 - val_loss: 2.1020 - val_accuracy: 0.0651\n",
      "Epoch 10/1000\n",
      "37/37 [==============================] - 0s 10ms/step - loss: 0.1375 - accuracy: 0.9545 - val_loss: 0.9245 - val_accuracy: 0.8459\n",
      "Epoch 11/1000\n",
      "37/37 [==============================] - 0s 10ms/step - loss: 0.1155 - accuracy: 0.9688 - val_loss: 5.7548 - val_accuracy: 0.0856\n",
      "Epoch 12/1000\n",
      "37/37 [==============================] - 0s 10ms/step - loss: 0.1037 - accuracy: 0.9657 - val_loss: 3.8157 - val_accuracy: 0.0753\n",
      "Epoch 13/1000\n",
      "37/37 [==============================] - 0s 10ms/step - loss: 0.1369 - accuracy: 0.9525 - val_loss: 1.8445 - val_accuracy: 0.1952\n",
      "Epoch 14/1000\n",
      "37/37 [==============================] - 0s 10ms/step - loss: 0.0886 - accuracy: 0.9739 - val_loss: 4.0398 - val_accuracy: 0.0411\n",
      "Epoch 15/1000\n",
      "37/37 [==============================] - 0s 10ms/step - loss: 0.0836 - accuracy: 0.9679 - val_loss: 0.5918 - val_accuracy: 0.7500\n",
      "Epoch 16/1000\n",
      "37/37 [==============================] - 0s 11ms/step - loss: 0.0693 - accuracy: 0.9793 - val_loss: 0.4380 - val_accuracy: 0.8870\n",
      "Epoch 17/1000\n",
      "37/37 [==============================] - 0s 10ms/step - loss: 0.0504 - accuracy: 0.9877 - val_loss: 0.4017 - val_accuracy: 0.9041\n",
      "Epoch 18/1000\n",
      "37/37 [==============================] - 0s 10ms/step - loss: 0.0434 - accuracy: 0.9863 - val_loss: 0.4067 - val_accuracy: 0.8836\n",
      "Epoch 19/1000\n",
      "37/37 [==============================] - 0s 10ms/step - loss: 0.1118 - accuracy: 0.9570 - val_loss: 0.2149 - val_accuracy: 0.9486\n",
      "Epoch 20/1000\n",
      "37/37 [==============================] - 0s 10ms/step - loss: 0.0823 - accuracy: 0.9793 - val_loss: 0.2590 - val_accuracy: 0.9418\n",
      "Epoch 21/1000\n",
      "37/37 [==============================] - 0s 10ms/step - loss: 0.0579 - accuracy: 0.9813 - val_loss: 0.1963 - val_accuracy: 0.9623\n",
      "Epoch 22/1000\n",
      "37/37 [==============================] - 0s 10ms/step - loss: 0.0428 - accuracy: 0.9898 - val_loss: 0.2738 - val_accuracy: 0.9349\n",
      "Epoch 23/1000\n",
      "37/37 [==============================] - 0s 10ms/step - loss: 0.0283 - accuracy: 0.9924 - val_loss: 0.1729 - val_accuracy: 0.9658\n",
      "Epoch 24/1000\n",
      "37/37 [==============================] - 0s 10ms/step - loss: 0.0310 - accuracy: 0.9882 - val_loss: 0.3425 - val_accuracy: 0.9384\n",
      "Epoch 25/1000\n",
      "37/37 [==============================] - 0s 10ms/step - loss: 0.0908 - accuracy: 0.9698 - val_loss: 0.4065 - val_accuracy: 0.8699\n",
      "Epoch 26/1000\n",
      "37/37 [==============================] - 0s 10ms/step - loss: 0.1063 - accuracy: 0.9584 - val_loss: 0.2269 - val_accuracy: 0.9589\n",
      "Epoch 27/1000\n",
      "37/37 [==============================] - 0s 10ms/step - loss: 0.0449 - accuracy: 0.9854 - val_loss: 0.2527 - val_accuracy: 0.9486\n",
      "Epoch 28/1000\n",
      "37/37 [==============================] - 0s 10ms/step - loss: 0.0333 - accuracy: 0.9876 - val_loss: 0.2070 - val_accuracy: 0.9692\n",
      "Epoch 29/1000\n",
      "37/37 [==============================] - 0s 10ms/step - loss: 0.0333 - accuracy: 0.9879 - val_loss: 0.3243 - val_accuracy: 0.9555\n",
      "Epoch 30/1000\n",
      "37/37 [==============================] - 0s 10ms/step - loss: 0.0200 - accuracy: 0.9930 - val_loss: 0.2480 - val_accuracy: 0.9589\n",
      "Epoch 31/1000\n",
      "37/37 [==============================] - 0s 10ms/step - loss: 0.0120 - accuracy: 0.9959 - val_loss: 0.2597 - val_accuracy: 0.9486\n",
      "Epoch 32/1000\n",
      "37/37 [==============================] - 0s 10ms/step - loss: 0.0218 - accuracy: 0.9931 - val_loss: 0.2202 - val_accuracy: 0.9623\n",
      "Epoch 33/1000\n",
      "37/37 [==============================] - 0s 10ms/step - loss: 0.0093 - accuracy: 0.9980 - val_loss: 0.2482 - val_accuracy: 0.9623\n",
      "Epoch 34/1000\n",
      "37/37 [==============================] - 0s 10ms/step - loss: 0.0080 - accuracy: 0.9975 - val_loss: 0.2270 - val_accuracy: 0.9486\n",
      "Epoch 35/1000\n",
      "37/37 [==============================] - 0s 10ms/step - loss: 0.0162 - accuracy: 0.9981 - val_loss: 0.2905 - val_accuracy: 0.9692\n",
      "Epoch 36/1000\n",
      "37/37 [==============================] - 0s 10ms/step - loss: 0.0023 - accuracy: 1.0000 - val_loss: 0.2544 - val_accuracy: 0.9760\n",
      "Epoch 37/1000\n",
      "37/37 [==============================] - 0s 10ms/step - loss: 9.0082e-04 - accuracy: 1.0000 - val_loss: 0.2567 - val_accuracy: 0.9760\n",
      "Epoch 38/1000\n",
      "37/37 [==============================] - 0s 10ms/step - loss: 0.0011 - accuracy: 1.0000 - val_loss: 0.2584 - val_accuracy: 0.9726\n",
      "Epoch 39/1000\n",
      "37/37 [==============================] - 0s 11ms/step - loss: 4.8080e-04 - accuracy: 1.0000 - val_loss: 0.2653 - val_accuracy: 0.9760\n",
      "Epoch 40/1000\n",
      "37/37 [==============================] - 0s 11ms/step - loss: 5.9466e-04 - accuracy: 1.0000 - val_loss: 0.2665 - val_accuracy: 0.9760\n",
      "Epoch 41/1000\n",
      "37/37 [==============================] - 0s 10ms/step - loss: 4.1630e-04 - accuracy: 1.0000 - val_loss: 0.2693 - val_accuracy: 0.9760\n",
      "Epoch 42/1000\n",
      "37/37 [==============================] - 0s 10ms/step - loss: 3.4685e-04 - accuracy: 1.0000 - val_loss: 0.2714 - val_accuracy: 0.9760\n",
      "Epoch 43/1000\n",
      "37/37 [==============================] - 0s 10ms/step - loss: 3.4403e-04 - accuracy: 1.0000 - val_loss: 0.2690 - val_accuracy: 0.9760\n"
     ]
    }
   ],
   "source": [
    "history = model.fit(x_train, \n",
    "                    y_train, \n",
    "                    epochs=1000,\n",
    "                    callbacks=callback, \n",
    "                    batch_size=32,\n",
    "                    validation_data=(x_val, y_val),\n",
    "                    )"
   ]
  },
  {
   "cell_type": "code",
   "execution_count": null,
   "metadata": {
    "id": "8U8AISSQcaU1"
   },
   "outputs": [],
   "source": []
  },
  {
   "cell_type": "code",
   "execution_count": 19,
   "metadata": {
    "executionInfo": {
     "elapsed": 2067,
     "status": "ok",
     "timestamp": 1619170723384,
     "user": {
      "displayName": "CY Li",
      "photoUrl": "https://lh3.googleusercontent.com/a-/AOh14GhUjBR-W3fjmzlI1F96TtArIXePd_MCbM8FFhB5fbI=s64",
      "userId": "11560903483017836470"
     },
     "user_tz": -480
    },
    "id": "gUzNVEJY33aI"
   },
   "outputs": [],
   "source": [
    "def cls_report(path):\n",
    "    model = models.load_model(path)\n",
    "    pred = np.argmax(model.predict(x_val), axis=-1)\n",
    "    print(classification_report(np.argmax(y_val, axis=-1), pred))\n",
    "    print(confusion_matrix(np.argmax(y_val, axis=-1), pred))"
   ]
  },
  {
   "cell_type": "code",
   "execution_count": null,
   "metadata": {
    "id": "Rk97-eaF5D-c"
   },
   "outputs": [],
   "source": [
    "cls_report('model.h5')"
   ]
  },
  {
   "cell_type": "code",
   "execution_count": null,
   "metadata": {
    "id": "A64qBBz45keT"
   },
   "outputs": [],
   "source": []
  }
 ],
 "metadata": {
  "accelerator": "GPU",
  "colab": {
   "collapsed_sections": [],
   "name": "ECG-prediction.ipynb",
   "provenance": []
  },
  "kernelspec": {
   "display_name": "Python 3",
   "language": "python",
   "name": "python3"
  },
  "language_info": {
   "codemirror_mode": {
    "name": "ipython",
    "version": 3
   },
   "file_extension": ".py",
   "mimetype": "text/x-python",
   "name": "python",
   "nbconvert_exporter": "python",
   "pygments_lexer": "ipython3",
   "version": "3.6.12"
  }
 },
 "nbformat": 4,
 "nbformat_minor": 4
}
